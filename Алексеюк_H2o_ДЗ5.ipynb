{
  "nbformat": 4,
  "nbformat_minor": 0,
  "metadata": {
    "colab": {
      "name": "Untitled24.ipynb",
      "provenance": []
    },
    "kernelspec": {
      "name": "python3",
      "display_name": "Python 3"
    }
  },
  "cells": [
    {
      "cell_type": "code",
      "metadata": {
        "id": "6Vqmbti1SdI9",
        "outputId": "15eaa0ec-968f-4163-8bef-2af949731efb",
        "colab": {
          "base_uri": "https://localhost:8080/",
          "height": 170
        }
      },
      "source": [
        "!pip install h2o\n",
        "import h2o \n",
        "import matplotlib.pyplot as plt\n",
        "import numpy as np\n",
        "import pandas as pd\n",
        "from h2o.estimators.deeplearning import H2ODeepLearningEstimator\n",
        "from h2o.estimators.kmeans import H2OKMeansEstimator\n",
        "from h2o.estimators.pca import H2OPrincipalComponentAnalysisEstimator"
      ],
      "execution_count": 29,
      "outputs": [
        {
          "output_type": "stream",
          "text": [
            "Requirement already satisfied: h2o in /usr/local/lib/python3.6/dist-packages (3.30.1.3)\n",
            "Requirement already satisfied: tabulate in /usr/local/lib/python3.6/dist-packages (from h2o) (0.8.7)\n",
            "Requirement already satisfied: requests in /usr/local/lib/python3.6/dist-packages (from h2o) (2.23.0)\n",
            "Requirement already satisfied: future in /usr/local/lib/python3.6/dist-packages (from h2o) (0.16.0)\n",
            "Requirement already satisfied: colorama>=0.3.8 in /usr/local/lib/python3.6/dist-packages (from h2o) (0.4.4)\n",
            "Requirement already satisfied: idna<3,>=2.5 in /usr/local/lib/python3.6/dist-packages (from requests->h2o) (2.10)\n",
            "Requirement already satisfied: urllib3!=1.25.0,!=1.25.1,<1.26,>=1.21.1 in /usr/local/lib/python3.6/dist-packages (from requests->h2o) (1.24.3)\n",
            "Requirement already satisfied: chardet<4,>=3.0.2 in /usr/local/lib/python3.6/dist-packages (from requests->h2o) (3.0.4)\n",
            "Requirement already satisfied: certifi>=2017.4.17 in /usr/local/lib/python3.6/dist-packages (from requests->h2o) (2020.6.20)\n"
          ],
          "name": "stdout"
        }
      ]
    },
    {
      "cell_type": "code",
      "metadata": {
        "id": "sOuFb9tNTB8v",
        "outputId": "618ec5ce-c11d-4491-fccd-61fb7a720310",
        "colab": {
          "base_uri": "https://localhost:8080/",
          "height": 372
        }
      },
      "source": [
        "h2o.init()"
      ],
      "execution_count": 30,
      "outputs": [
        {
          "output_type": "stream",
          "text": [
            "Checking whether there is an H2O instance running at http://localhost:54321 . connected.\n"
          ],
          "name": "stdout"
        },
        {
          "output_type": "display_data",
          "data": {
            "text/html": [
              "<div style=\"overflow:auto\"><table style=\"width:50%\"><tr><td>H2O_cluster_uptime:</td>\n",
              "<td>1 hour 12 mins</td></tr>\n",
              "<tr><td>H2O_cluster_timezone:</td>\n",
              "<td>Etc/UTC</td></tr>\n",
              "<tr><td>H2O_data_parsing_timezone:</td>\n",
              "<td>UTC</td></tr>\n",
              "<tr><td>H2O_cluster_version:</td>\n",
              "<td>3.30.1.3</td></tr>\n",
              "<tr><td>H2O_cluster_version_age:</td>\n",
              "<td>23 days </td></tr>\n",
              "<tr><td>H2O_cluster_name:</td>\n",
              "<td>H2O_from_python_unknownUser_67ocia</td></tr>\n",
              "<tr><td>H2O_cluster_total_nodes:</td>\n",
              "<td>1</td></tr>\n",
              "<tr><td>H2O_cluster_free_memory:</td>\n",
              "<td>3.118 Gb</td></tr>\n",
              "<tr><td>H2O_cluster_total_cores:</td>\n",
              "<td>2</td></tr>\n",
              "<tr><td>H2O_cluster_allowed_cores:</td>\n",
              "<td>2</td></tr>\n",
              "<tr><td>H2O_cluster_status:</td>\n",
              "<td>locked, healthy</td></tr>\n",
              "<tr><td>H2O_connection_url:</td>\n",
              "<td>http://localhost:54321</td></tr>\n",
              "<tr><td>H2O_connection_proxy:</td>\n",
              "<td>{\"http\": null, \"https\": null}</td></tr>\n",
              "<tr><td>H2O_internal_security:</td>\n",
              "<td>False</td></tr>\n",
              "<tr><td>H2O_API_Extensions:</td>\n",
              "<td>Amazon S3, XGBoost, Algos, AutoML, Core V3, TargetEncoder, Core V4</td></tr>\n",
              "<tr><td>Python_version:</td>\n",
              "<td>3.6.9 final</td></tr></table></div>"
            ],
            "text/plain": [
              "--------------------------  ------------------------------------------------------------------\n",
              "H2O_cluster_uptime:         1 hour 12 mins\n",
              "H2O_cluster_timezone:       Etc/UTC\n",
              "H2O_data_parsing_timezone:  UTC\n",
              "H2O_cluster_version:        3.30.1.3\n",
              "H2O_cluster_version_age:    23 days\n",
              "H2O_cluster_name:           H2O_from_python_unknownUser_67ocia\n",
              "H2O_cluster_total_nodes:    1\n",
              "H2O_cluster_free_memory:    3.118 Gb\n",
              "H2O_cluster_total_cores:    2\n",
              "H2O_cluster_allowed_cores:  2\n",
              "H2O_cluster_status:         locked, healthy\n",
              "H2O_connection_url:         http://localhost:54321\n",
              "H2O_connection_proxy:       {\"http\": null, \"https\": null}\n",
              "H2O_internal_security:      False\n",
              "H2O_API_Extensions:         Amazon S3, XGBoost, Algos, AutoML, Core V3, TargetEncoder, Core V4\n",
              "Python_version:             3.6.9 final\n",
              "--------------------------  ------------------------------------------------------------------"
            ]
          },
          "metadata": {
            "tags": []
          }
        }
      ]
    },
    {
      "cell_type": "code",
      "metadata": {
        "id": "mup9HJRETCia"
      },
      "source": [
        "# define input variable measurement levels \n",
        "# strings automatically parsed as enums (nominal)\n",
        "# numbers automatically parsed as numeric\n",
        "col_types = {'open_account_flg': 'enum'}"
      ],
      "execution_count": 53,
      "outputs": []
    },
    {
      "cell_type": "code",
      "metadata": {
        "id": "3Km67rrfTOo9"
      },
      "source": [
        "data = pd.read_csv('/credit_train.csv', encoding='cp1251', sep=';') # multi-threaded import"
      ],
      "execution_count": 74,
      "outputs": []
    },
    {
      "cell_type": "code",
      "metadata": {
        "id": "M1sYBwP8j17X"
      },
      "source": [
        "data['score_shk'] = data['score_shk'].str.replace(',','.').astype(float)\n",
        "data['credit_sum'] = data['credit_sum'].str.replace(',','.').astype(float)\n",
        "# преобразуем указанные переменные в тип object\n",
        "for i in ['tariff_id']:\n",
        "    data[i] = data[i].astype('object')\n",
        "data['living_region'] = data['living_region'].astype(str)\n",
        "from_replace = ['\\s?(ОБЛАСТЬ|ОБЛ\\.|ОБЛ|КРАЙ\\.|КРАЙ|РЕСПУБЛИКА|РЕСП\\.|РЕСП|Г\\.\\s|Г\\s|\\sГ|АО|Р-Н)\\s?', '74',\n",
        "                '98|САНКТ-ПЕТЕРБУРГ', 'ЕВРЕЙСКАЯБЛ', 'КАМЧАТСКАЯ|КАМЧАТС\\?\\?ИЙ', '(МОСКВА|МОСКВОСКАЯ|МЫТИЩИНСКИЙ)',\n",
        "                '(САХА \\(ЯКУТИЯ\\)|САХА \\/ЯКУТИЯ\\/)', 'СЕВ\\. ОСЕТИЯ - АЛАНИЯ', 'ХАНТЫ-МАНСИЙСКИЙ АВТОНОМНЫЙ ОКРУ- ЮГРА',\n",
        "                'ХАНТЫ-МАНСИЙСКИЙ АВТОНОМНЫЙ ОКРУ- Ю', '(ЧУВАШИЯ\\sЧУВАШСКАЯ-|ЧУВАШСКАЯ\\s?-\\sЧУВАШИЯ)', 'БЛ ЕВРЕЙСКАЯ', \n",
        "                'БРЯНСКИЙ', 'ГОРЬКОВСКАЯ', 'ОРЁЛ', 'ПЕРМСКАЯ', 'ПРИВОЛЖСКИЙ ФЕДЕРАЛЬНЫЙ ОКРУГ', 'ЭВЕНКИЙСКИЙ', \n",
        "                'nan|ГУСЬ-ХРУСТАЛЬНЫЙ|МОСКОВСКИЙ\\sП|РОССИЯ', 'ХАНТЫ-МАНСИЙСКИЙ-ЮГРА', 'ЧЕЛЯБИНСК$', 'ЧИТИНСКАЯ',\n",
        "                'ЧУКОТСКИЙ\\sАO', 'Г.МОСКОВСКАЯ', 'Г.ОДИНЦОВО\\sМОСКОВСКАЯ', 'ДАЛЬНИЙ\\sВОСТОК']\n",
        "to_replace = ['', 'ЧЕЛЯБИНСКАЯ', 'ЛЕНИНГРАДСКАЯ', 'ЕВРЕЙСКАЯ АВТОНОМНАЯ',\n",
        "              'КАМЧАТСКИЙ', 'МОСКОВСКАЯ', 'САХА', 'СЕВЕРНАЯ ОСЕТИЯ - АЛАНИЯ',\n",
        "              'ХАНТЫ-МАНСИЙСКИЙ', 'ХАНТЫ-МАНСИЙСКИЙ', 'ЧУВАШСКАЯ', 'ЕВРЕЙСКАЯ АВТОНОМНАЯ',\n",
        "              'БРЯНСКАЯ', 'НИЖЕГОРОДСКАЯ', 'ОРЛОВСКАЯ', 'ПЕРМСКИЙ', 'МОСКОВСКАЯ', 'КРАСНОЯРСКИЙ', \n",
        "              'МОСКОВСКАЯ', 'ХАНТЫ-МАНСИЙСКИЙ', 'ЧЕЛЯБИНСКАЯ', 'ЗАБАЙКАЛЬСКИЙ', 'ЧУКОТСКИЙ', \n",
        "              'МОСКОВСКАЯ', 'МОСКОВСКАЯ', 'ПРИМОРСКИЙ']\n",
        "data['living_region'].replace(from_replace, to_replace, regex=True, inplace=True)\n",
        "    \n",
        "    \n",
        "data.at[data['job_position'] == 'PNV', 'job_position'] = 'OTHER'\n",
        "data.at[data['job_position'] == 'PNS', 'job_position'] = 'OTHER'\n",
        "data.at[data['job_position'] == 'HSK', 'job_position'] = 'OTHER'\n",
        "data.at[data['job_position'] == 'INV', 'job_position'] = 'OTHER'\n",
        "data.at[data['job_position'] == 'ONB', 'job_position'] = 'OTHER'"
      ],
      "execution_count": 75,
      "outputs": []
    },
    {
      "cell_type": "code",
      "metadata": {
        "id": "Kju5Cwk-j2MW"
      },
      "source": [
        "data['age'].fillna(data['age'].median(), inplace=True)\n",
        "for i in ['credit_sum', 'score_shk']:\n",
        "    data[i].fillna(data[i].median(), inplace=True)\n",
        "data['monthly_income'].fillna(30000.0, inplace=True)\n",
        "for i in ['credit_count', 'overdue_credit_count']:\n",
        "    data[i].fillna(-1, inplace=True)\n",
        "data['marital_status'] = data['marital_status'].fillna('MAR')\n",
        "data['education'].fillna(data['education'].value_counts().index[0], inplace=True)"
      ],
      "execution_count": 76,
      "outputs": []
    },
    {
      "cell_type": "code",
      "metadata": {
        "id": "xNe9glkTkTSU"
      },
      "source": [
        "data = data.drop(['living_region', 'client_id'],axis = 1 ) # в итоге пришлось выкинуть регион проживания, т.к. было слишком должно переписывать всё на англ, а \"вода\"\n",
        "# не захотела читать по-русски"
      ],
      "execution_count": 77,
      "outputs": []
    },
    {
      "cell_type": "code",
      "metadata": {
        "id": "SnE5sRWtj2OQ",
        "outputId": "59bffae9-7209-4268-bb67-ac433a57bdf0",
        "colab": {
          "base_uri": "https://localhost:8080/",
          "height": 34
        }
      },
      "source": [
        "frame = h2o.H2OFrame(data)"
      ],
      "execution_count": 78,
      "outputs": [
        {
          "output_type": "stream",
          "text": [
            "Parse progress: |█████████████████████████████████████████████████████████| 100%\n"
          ],
          "name": "stdout"
        }
      ]
    },
    {
      "cell_type": "code",
      "metadata": {
        "id": "DIo4icsuj2A0",
        "outputId": "3ca7c671-4e3e-431a-ab20-cb5841c83b11",
        "colab": {
          "base_uri": "https://localhost:8080/",
          "height": 250
        }
      },
      "source": [
        "frame.head()"
      ],
      "execution_count": 79,
      "outputs": [
        {
          "output_type": "display_data",
          "data": {
            "text/html": [
              "<table>\n",
              "<thead>\n",
              "<tr><th>gender  </th><th style=\"text-align: right;\">  age</th><th>marital_status  </th><th>job_position  </th><th style=\"text-align: right;\">  credit_sum</th><th style=\"text-align: right;\">  credit_month</th><th style=\"text-align: right;\">  tariff_id</th><th style=\"text-align: right;\">  score_shk</th><th>education  </th><th style=\"text-align: right;\">  monthly_income</th><th style=\"text-align: right;\">  credit_count</th><th style=\"text-align: right;\">  overdue_credit_count</th><th style=\"text-align: right;\">  open_account_flg</th></tr>\n",
              "</thead>\n",
              "<tbody>\n",
              "<tr><td>M       </td><td style=\"text-align: right;\">   34</td><td>MAR             </td><td>UMN           </td><td style=\"text-align: right;\">     59998  </td><td style=\"text-align: right;\">            10</td><td style=\"text-align: right;\">        1.6</td><td style=\"text-align: right;\">   0.461599</td><td>GRD        </td><td style=\"text-align: right;\">           30000</td><td style=\"text-align: right;\">             1</td><td style=\"text-align: right;\">                     1</td><td style=\"text-align: right;\">                 0</td></tr>\n",
              "<tr><td>F       </td><td style=\"text-align: right;\">   34</td><td>MAR             </td><td>UMN           </td><td style=\"text-align: right;\">     10889  </td><td style=\"text-align: right;\">             6</td><td style=\"text-align: right;\">        1.1</td><td style=\"text-align: right;\">   0.461599</td><td>SCH        </td><td style=\"text-align: right;\">           30000</td><td style=\"text-align: right;\">             2</td><td style=\"text-align: right;\">                     0</td><td style=\"text-align: right;\">                 0</td></tr>\n",
              "<tr><td>M       </td><td style=\"text-align: right;\">   32</td><td>MAR             </td><td>SPC           </td><td style=\"text-align: right;\">     10728  </td><td style=\"text-align: right;\">            12</td><td style=\"text-align: right;\">        1.1</td><td style=\"text-align: right;\">   0.461599</td><td>SCH        </td><td style=\"text-align: right;\">           30000</td><td style=\"text-align: right;\">             5</td><td style=\"text-align: right;\">                     0</td><td style=\"text-align: right;\">                 0</td></tr>\n",
              "<tr><td>F       </td><td style=\"text-align: right;\">   27</td><td>MAR             </td><td>SPC           </td><td style=\"text-align: right;\">     12009.1</td><td style=\"text-align: right;\">            12</td><td style=\"text-align: right;\">        1.1</td><td style=\"text-align: right;\">   0.461599</td><td>SCH        </td><td style=\"text-align: right;\">           30000</td><td style=\"text-align: right;\">             2</td><td style=\"text-align: right;\">                     0</td><td style=\"text-align: right;\">                 0</td></tr>\n",
              "<tr><td>M       </td><td style=\"text-align: right;\">   45</td><td>MAR             </td><td>SPC           </td><td style=\"text-align: right;\">     21229  </td><td style=\"text-align: right;\">            10</td><td style=\"text-align: right;\">        1.1</td><td style=\"text-align: right;\">   0.421385</td><td>SCH        </td><td style=\"text-align: right;\">           30000</td><td style=\"text-align: right;\">             1</td><td style=\"text-align: right;\">                     0</td><td style=\"text-align: right;\">                 0</td></tr>\n",
              "<tr><td>F       </td><td style=\"text-align: right;\">   34</td><td>MAR             </td><td>SPC           </td><td style=\"text-align: right;\">     21229  </td><td style=\"text-align: right;\">            10</td><td style=\"text-align: right;\">        1.1</td><td style=\"text-align: right;\">   0.461599</td><td>SCH        </td><td style=\"text-align: right;\">           30000</td><td style=\"text-align: right;\">             0</td><td style=\"text-align: right;\">                     0</td><td style=\"text-align: right;\">                 0</td></tr>\n",
              "<tr><td>M       </td><td style=\"text-align: right;\">   34</td><td>MAR             </td><td>SPC           </td><td style=\"text-align: right;\">     10317  </td><td style=\"text-align: right;\">             6</td><td style=\"text-align: right;\">        1.5</td><td style=\"text-align: right;\">   0.461599</td><td>SCH        </td><td style=\"text-align: right;\">           28000</td><td style=\"text-align: right;\">             3</td><td style=\"text-align: right;\">                     0</td><td style=\"text-align: right;\">                 0</td></tr>\n",
              "<tr><td>F       </td><td style=\"text-align: right;\">   26</td><td>UNM             </td><td>SPC           </td><td style=\"text-align: right;\">     47878  </td><td style=\"text-align: right;\">            10</td><td style=\"text-align: right;\">        1.1</td><td style=\"text-align: right;\">   0.512525</td><td>GRD        </td><td style=\"text-align: right;\">           60000</td><td style=\"text-align: right;\">             3</td><td style=\"text-align: right;\">                     0</td><td style=\"text-align: right;\">                 0</td></tr>\n",
              "<tr><td>M       </td><td style=\"text-align: right;\">   23</td><td>UNM             </td><td>SPC           </td><td style=\"text-align: right;\">     37577.2</td><td style=\"text-align: right;\">            12</td><td style=\"text-align: right;\">        1.6</td><td style=\"text-align: right;\">   0.461599</td><td>SCH        </td><td style=\"text-align: right;\">           50000</td><td style=\"text-align: right;\">             3</td><td style=\"text-align: right;\">                     0</td><td style=\"text-align: right;\">                 0</td></tr>\n",
              "<tr><td>F       </td><td style=\"text-align: right;\">   32</td><td>UNM             </td><td>SPC           </td><td style=\"text-align: right;\">     26268  </td><td style=\"text-align: right;\">            10</td><td style=\"text-align: right;\">        1.1</td><td style=\"text-align: right;\">   0.465026</td><td>GRD        </td><td style=\"text-align: right;\">           39500</td><td style=\"text-align: right;\">             7</td><td style=\"text-align: right;\">                     0</td><td style=\"text-align: right;\">                 0</td></tr>\n",
              "</tbody>\n",
              "</table>"
            ]
          },
          "metadata": {
            "tags": []
          }
        },
        {
          "output_type": "execute_result",
          "data": {
            "text/plain": [
              ""
            ]
          },
          "metadata": {
            "tags": []
          },
          "execution_count": 79
        }
      ]
    },
    {
      "cell_type": "code",
      "metadata": {
        "id": "hUb4AT14TCNR",
        "outputId": "0bff0d1b-06f8-4c25-a61a-f88ebdab0bb2",
        "colab": {
          "base_uri": "https://localhost:8080/",
          "height": 238
        }
      },
      "source": [
        "frame.columns"
      ],
      "execution_count": 80,
      "outputs": [
        {
          "output_type": "execute_result",
          "data": {
            "text/plain": [
              "['gender',\n",
              " 'age',\n",
              " 'marital_status',\n",
              " 'job_position',\n",
              " 'credit_sum',\n",
              " 'credit_month',\n",
              " 'tariff_id',\n",
              " 'score_shk',\n",
              " 'education',\n",
              " 'monthly_income',\n",
              " 'credit_count',\n",
              " 'overdue_credit_count',\n",
              " 'open_account_flg']"
            ]
          },
          "metadata": {
            "tags": []
          },
          "execution_count": 80
        }
      ]
    },
    {
      "cell_type": "code",
      "metadata": {
        "id": "K9NRDLumUaUY"
      },
      "source": [
        ""
      ],
      "execution_count": null,
      "outputs": []
    },
    {
      "cell_type": "code",
      "metadata": {
        "id": "z3BT3XT_TCBy",
        "outputId": "17a40515-0f28-4dbf-9b18-84175db4422f",
        "colab": {
          "base_uri": "https://localhost:8080/",
          "height": 51
        }
      },
      "source": [
        "# assign target and inputs\n",
        "y = 'open_account_flg'\n",
        "X = [name for name in frame.columns if name != y]\n",
        "print(y)\n",
        "print(X)"
      ],
      "execution_count": 81,
      "outputs": [
        {
          "output_type": "stream",
          "text": [
            "open_account_flg\n",
            "['gender', 'age', 'marital_status', 'job_position', 'credit_sum', 'credit_month', 'tariff_id', 'score_shk', 'education', 'monthly_income', 'credit_count', 'overdue_credit_count']\n"
          ],
          "name": "stdout"
        }
      ]
    },
    {
      "cell_type": "code",
      "metadata": {
        "id": "WzXdUU6cTCAX",
        "outputId": "78e92594-db42-436d-921c-fc16a72c0b30",
        "colab": {
          "base_uri": "https://localhost:8080/",
          "height": 51
        }
      },
      "source": [
        "# determine column types\n",
        "reals, enums = [], []\n",
        "for key, val in frame.types.items():\n",
        "    if key in X:\n",
        "        if val == 'enum':\n",
        "            enums.append(key)\n",
        "        else: \n",
        "            reals.append(key)\n",
        "\n",
        "print(enums)\n",
        "print(reals)"
      ],
      "execution_count": 82,
      "outputs": [
        {
          "output_type": "stream",
          "text": [
            "['gender', 'marital_status', 'job_position', 'education']\n",
            "['age', 'credit_sum', 'credit_month', 'tariff_id', 'score_shk', 'monthly_income', 'credit_count', 'overdue_credit_count']\n"
          ],
          "name": "stdout"
        }
      ]
    },
    {
      "cell_type": "code",
      "metadata": {
        "id": "HAH6p8W-TB_D"
      },
      "source": [
        "# standardize for both clustering and PCA\n",
        "\n",
        "frame[reals] = frame[reals].scale()"
      ],
      "execution_count": 83,
      "outputs": []
    },
    {
      "cell_type": "code",
      "metadata": {
        "id": "qb-6U1jJTB6L",
        "outputId": "df1a6907-6f81-4caf-cac4-a171ab43a8e4",
        "colab": {
          "base_uri": "https://localhost:8080/",
          "height": 1000
        }
      },
      "source": [
        "# train k-means cluster model\n",
        "# print summary\n",
        "clusters = H2OKMeansEstimator(standardize=False, k=5, seed=12345)\n",
        "clusters.train(x=X, training_frame=frame)\n",
        "print(clusters)"
      ],
      "execution_count": 84,
      "outputs": [
        {
          "output_type": "stream",
          "text": [
            "kmeans Model Build progress: |████████████████████████████████████████████| 100%\n",
            "Model Details\n",
            "=============\n",
            "H2OKMeansEstimator :  K-means\n",
            "Model Key:  KMeans_model_python_1603369972294_5\n",
            "\n",
            "\n",
            "Model Summary: \n"
          ],
          "name": "stdout"
        },
        {
          "output_type": "display_data",
          "data": {
            "text/html": [
              "<div>\n",
              "<style scoped>\n",
              "    .dataframe tbody tr th:only-of-type {\n",
              "        vertical-align: middle;\n",
              "    }\n",
              "\n",
              "    .dataframe tbody tr th {\n",
              "        vertical-align: top;\n",
              "    }\n",
              "\n",
              "    .dataframe thead th {\n",
              "        text-align: right;\n",
              "    }\n",
              "</style>\n",
              "<table border=\"1\" class=\"dataframe\">\n",
              "  <thead>\n",
              "    <tr style=\"text-align: right;\">\n",
              "      <th></th>\n",
              "      <th></th>\n",
              "      <th>number_of_rows</th>\n",
              "      <th>number_of_clusters</th>\n",
              "      <th>number_of_categorical_columns</th>\n",
              "      <th>number_of_iterations</th>\n",
              "      <th>within_cluster_sum_of_squares</th>\n",
              "      <th>total_sum_of_squares</th>\n",
              "      <th>between_cluster_sum_of_squares</th>\n",
              "    </tr>\n",
              "  </thead>\n",
              "  <tbody>\n",
              "    <tr>\n",
              "      <th>0</th>\n",
              "      <td></td>\n",
              "      <td>170746.0</td>\n",
              "      <td>5.0</td>\n",
              "      <td>4.0</td>\n",
              "      <td>10.0</td>\n",
              "      <td>1.162503e+06</td>\n",
              "      <td>1644068.0</td>\n",
              "      <td>481564.900318</td>\n",
              "    </tr>\n",
              "  </tbody>\n",
              "</table>\n",
              "</div>"
            ],
            "text/plain": [
              "     number_of_rows  ...  total_sum_of_squares  between_cluster_sum_of_squares\n",
              "0          170746.0  ...             1644068.0                   481564.900318\n",
              "\n",
              "[1 rows x 8 columns]"
            ]
          },
          "metadata": {
            "tags": []
          }
        },
        {
          "output_type": "stream",
          "text": [
            "\n",
            "\n",
            "ModelMetricsClustering: kmeans\n",
            "** Reported on train data. **\n",
            "\n",
            "MSE: NaN\n",
            "RMSE: NaN\n",
            "Total Within Cluster Sum of Square Error: 1159006.4889025642\n",
            "Total Sum of Square Error to Grand Mean: 1644068.000025176\n",
            "Between Cluster Sum of Square Error: 485061.5111226118\n",
            "\n",
            "Centroid Statistics: \n"
          ],
          "name": "stdout"
        },
        {
          "output_type": "display_data",
          "data": {
            "text/html": [
              "<div>\n",
              "<style scoped>\n",
              "    .dataframe tbody tr th:only-of-type {\n",
              "        vertical-align: middle;\n",
              "    }\n",
              "\n",
              "    .dataframe tbody tr th {\n",
              "        vertical-align: top;\n",
              "    }\n",
              "\n",
              "    .dataframe thead th {\n",
              "        text-align: right;\n",
              "    }\n",
              "</style>\n",
              "<table border=\"1\" class=\"dataframe\">\n",
              "  <thead>\n",
              "    <tr style=\"text-align: right;\">\n",
              "      <th></th>\n",
              "      <th></th>\n",
              "      <th>centroid</th>\n",
              "      <th>size</th>\n",
              "      <th>within_cluster_sum_of_squares</th>\n",
              "    </tr>\n",
              "  </thead>\n",
              "  <tbody>\n",
              "    <tr>\n",
              "      <th>0</th>\n",
              "      <td></td>\n",
              "      <td>1.0</td>\n",
              "      <td>47793.0</td>\n",
              "      <td>333424.039900</td>\n",
              "    </tr>\n",
              "    <tr>\n",
              "      <th>1</th>\n",
              "      <td></td>\n",
              "      <td>2.0</td>\n",
              "      <td>12938.0</td>\n",
              "      <td>147721.326804</td>\n",
              "    </tr>\n",
              "    <tr>\n",
              "      <th>2</th>\n",
              "      <td></td>\n",
              "      <td>3.0</td>\n",
              "      <td>9144.0</td>\n",
              "      <td>95084.899538</td>\n",
              "    </tr>\n",
              "    <tr>\n",
              "      <th>3</th>\n",
              "      <td></td>\n",
              "      <td>4.0</td>\n",
              "      <td>43880.0</td>\n",
              "      <td>290298.509533</td>\n",
              "    </tr>\n",
              "    <tr>\n",
              "      <th>4</th>\n",
              "      <td></td>\n",
              "      <td>5.0</td>\n",
              "      <td>56991.0</td>\n",
              "      <td>292477.713128</td>\n",
              "    </tr>\n",
              "  </tbody>\n",
              "</table>\n",
              "</div>"
            ],
            "text/plain": [
              "     centroid     size  within_cluster_sum_of_squares\n",
              "0         1.0  47793.0                  333424.039900\n",
              "1         2.0  12938.0                  147721.326804\n",
              "2         3.0   9144.0                   95084.899538\n",
              "3         4.0  43880.0                  290298.509533\n",
              "4         5.0  56991.0                  292477.713128"
            ]
          },
          "metadata": {
            "tags": []
          }
        },
        {
          "output_type": "stream",
          "text": [
            "\n",
            "Scoring History: \n"
          ],
          "name": "stdout"
        },
        {
          "output_type": "display_data",
          "data": {
            "text/html": [
              "<div>\n",
              "<style scoped>\n",
              "    .dataframe tbody tr th:only-of-type {\n",
              "        vertical-align: middle;\n",
              "    }\n",
              "\n",
              "    .dataframe tbody tr th {\n",
              "        vertical-align: top;\n",
              "    }\n",
              "\n",
              "    .dataframe thead th {\n",
              "        text-align: right;\n",
              "    }\n",
              "</style>\n",
              "<table border=\"1\" class=\"dataframe\">\n",
              "  <thead>\n",
              "    <tr style=\"text-align: right;\">\n",
              "      <th></th>\n",
              "      <th></th>\n",
              "      <th>timestamp</th>\n",
              "      <th>duration</th>\n",
              "      <th>iterations</th>\n",
              "      <th>number_of_reassigned_observations</th>\n",
              "      <th>within_cluster_sum_of_squares</th>\n",
              "    </tr>\n",
              "  </thead>\n",
              "  <tbody>\n",
              "    <tr>\n",
              "      <th>0</th>\n",
              "      <td></td>\n",
              "      <td>2020-10-22 14:05:33</td>\n",
              "      <td>0.008 sec</td>\n",
              "      <td>0.0</td>\n",
              "      <td>NaN</td>\n",
              "      <td>NaN</td>\n",
              "    </tr>\n",
              "    <tr>\n",
              "      <th>1</th>\n",
              "      <td></td>\n",
              "      <td>2020-10-22 14:05:34</td>\n",
              "      <td>1.290 sec</td>\n",
              "      <td>1.0</td>\n",
              "      <td>170746.0</td>\n",
              "      <td>3.209170e+06</td>\n",
              "    </tr>\n",
              "    <tr>\n",
              "      <th>2</th>\n",
              "      <td></td>\n",
              "      <td>2020-10-22 14:05:34</td>\n",
              "      <td>1.434 sec</td>\n",
              "      <td>2.0</td>\n",
              "      <td>29323.0</td>\n",
              "      <td>1.253955e+06</td>\n",
              "    </tr>\n",
              "    <tr>\n",
              "      <th>3</th>\n",
              "      <td></td>\n",
              "      <td>2020-10-22 14:05:34</td>\n",
              "      <td>1.565 sec</td>\n",
              "      <td>3.0</td>\n",
              "      <td>11309.0</td>\n",
              "      <td>1.220683e+06</td>\n",
              "    </tr>\n",
              "    <tr>\n",
              "      <th>4</th>\n",
              "      <td></td>\n",
              "      <td>2020-10-22 14:05:34</td>\n",
              "      <td>1.705 sec</td>\n",
              "      <td>4.0</td>\n",
              "      <td>7776.0</td>\n",
              "      <td>1.208961e+06</td>\n",
              "    </tr>\n",
              "    <tr>\n",
              "      <th>5</th>\n",
              "      <td></td>\n",
              "      <td>2020-10-22 14:05:34</td>\n",
              "      <td>1.800 sec</td>\n",
              "      <td>5.0</td>\n",
              "      <td>12352.0</td>\n",
              "      <td>1.196038e+06</td>\n",
              "    </tr>\n",
              "    <tr>\n",
              "      <th>6</th>\n",
              "      <td></td>\n",
              "      <td>2020-10-22 14:05:34</td>\n",
              "      <td>1.895 sec</td>\n",
              "      <td>6.0</td>\n",
              "      <td>9364.0</td>\n",
              "      <td>1.185417e+06</td>\n",
              "    </tr>\n",
              "    <tr>\n",
              "      <th>7</th>\n",
              "      <td></td>\n",
              "      <td>2020-10-22 14:05:35</td>\n",
              "      <td>2.015 sec</td>\n",
              "      <td>7.0</td>\n",
              "      <td>8174.0</td>\n",
              "      <td>1.176640e+06</td>\n",
              "    </tr>\n",
              "    <tr>\n",
              "      <th>8</th>\n",
              "      <td></td>\n",
              "      <td>2020-10-22 14:05:35</td>\n",
              "      <td>2.107 sec</td>\n",
              "      <td>8.0</td>\n",
              "      <td>6932.0</td>\n",
              "      <td>1.170325e+06</td>\n",
              "    </tr>\n",
              "    <tr>\n",
              "      <th>9</th>\n",
              "      <td></td>\n",
              "      <td>2020-10-22 14:05:35</td>\n",
              "      <td>2.244 sec</td>\n",
              "      <td>9.0</td>\n",
              "      <td>5133.0</td>\n",
              "      <td>1.166022e+06</td>\n",
              "    </tr>\n",
              "    <tr>\n",
              "      <th>10</th>\n",
              "      <td></td>\n",
              "      <td>2020-10-22 14:05:35</td>\n",
              "      <td>2.353 sec</td>\n",
              "      <td>10.0</td>\n",
              "      <td>4461.0</td>\n",
              "      <td>1.162503e+06</td>\n",
              "    </tr>\n",
              "  </tbody>\n",
              "</table>\n",
              "</div>"
            ],
            "text/plain": [
              "      ... within_cluster_sum_of_squares\n",
              "0     ...                           NaN\n",
              "1     ...                  3.209170e+06\n",
              "2     ...                  1.253955e+06\n",
              "3     ...                  1.220683e+06\n",
              "4     ...                  1.208961e+06\n",
              "5     ...                  1.196038e+06\n",
              "6     ...                  1.185417e+06\n",
              "7     ...                  1.176640e+06\n",
              "8     ...                  1.170325e+06\n",
              "9     ...                  1.166022e+06\n",
              "10    ...                  1.162503e+06\n",
              "\n",
              "[11 rows x 6 columns]"
            ]
          },
          "metadata": {
            "tags": []
          }
        },
        {
          "output_type": "stream",
          "text": [
            "\n"
          ],
          "name": "stdout"
        }
      ]
    },
    {
      "cell_type": "code",
      "metadata": {
        "id": "ydc4j6GvmkDj",
        "outputId": "e9b323f6-f58b-4aa3-8a7f-0a98e89523f3",
        "colab": {
          "base_uri": "https://localhost:8080/",
          "height": 267
        }
      },
      "source": [
        "# join cluster labels to original data for further analysis\n",
        "labels = clusters.predict(frame)\n",
        "labeled_frame = frame.cbind(labels)\n",
        "labeled_frame[-1].head()"
      ],
      "execution_count": 85,
      "outputs": [
        {
          "output_type": "stream",
          "text": [
            "kmeans prediction progress: |█████████████████████████████████████████████| 100%\n"
          ],
          "name": "stdout"
        },
        {
          "output_type": "display_data",
          "data": {
            "text/html": [
              "<table>\n",
              "<thead>\n",
              "<tr><th style=\"text-align: right;\">  predict</th></tr>\n",
              "</thead>\n",
              "<tbody>\n",
              "<tr><td style=\"text-align: right;\">        3</td></tr>\n",
              "<tr><td style=\"text-align: right;\">        4</td></tr>\n",
              "<tr><td style=\"text-align: right;\">        3</td></tr>\n",
              "<tr><td style=\"text-align: right;\">        4</td></tr>\n",
              "<tr><td style=\"text-align: right;\">        4</td></tr>\n",
              "<tr><td style=\"text-align: right;\">        4</td></tr>\n",
              "<tr><td style=\"text-align: right;\">        3</td></tr>\n",
              "<tr><td style=\"text-align: right;\">        3</td></tr>\n",
              "<tr><td style=\"text-align: right;\">        0</td></tr>\n",
              "<tr><td style=\"text-align: right;\">        3</td></tr>\n",
              "</tbody>\n",
              "</table>"
            ]
          },
          "metadata": {
            "tags": []
          }
        },
        {
          "output_type": "execute_result",
          "data": {
            "text/plain": [
              ""
            ]
          },
          "metadata": {
            "tags": []
          },
          "execution_count": 85
        }
      ]
    },
    {
      "cell_type": "code",
      "metadata": {
        "id": "K41v2TFHmkVQ",
        "outputId": "fc9bf029-8ad3-4e76-b1b2-2856187c4d9d",
        "colab": {
          "base_uri": "https://localhost:8080/",
          "height": 250
        }
      },
      "source": [
        "labeled_frame"
      ],
      "execution_count": 86,
      "outputs": [
        {
          "output_type": "display_data",
          "data": {
            "text/html": [
              "<table>\n",
              "<thead>\n",
              "<tr><th>gender  </th><th style=\"text-align: right;\">      age</th><th>marital_status  </th><th>job_position  </th><th style=\"text-align: right;\">  credit_sum</th><th style=\"text-align: right;\">  credit_month</th><th style=\"text-align: right;\">  tariff_id</th><th style=\"text-align: right;\">  score_shk</th><th>education  </th><th style=\"text-align: right;\">  monthly_income</th><th style=\"text-align: right;\">  credit_count</th><th style=\"text-align: right;\">  overdue_credit_count</th><th style=\"text-align: right;\">  open_account_flg</th><th style=\"text-align: right;\">  predict</th></tr>\n",
              "</thead>\n",
              "<tbody>\n",
              "<tr><td>M       </td><td style=\"text-align: right;\">-0.236794</td><td>MAR             </td><td>UMN           </td><td style=\"text-align: right;\">   2.08829  </td><td style=\"text-align: right;\">     -0.277306</td><td style=\"text-align: right;\">   1.17084 </td><td style=\"text-align: right;\"> -0.0633667</td><td>GRD        </td><td style=\"text-align: right;\">       -0.404818</td><td style=\"text-align: right;\">    -0.503451 </td><td style=\"text-align: right;\">             3.22311  </td><td style=\"text-align: right;\">                 0</td><td style=\"text-align: right;\">        3</td></tr>\n",
              "<tr><td>F       </td><td style=\"text-align: right;\">-0.236794</td><td>MAR             </td><td>UMN           </td><td style=\"text-align: right;\">  -0.936633 </td><td style=\"text-align: right;\">     -1.40831 </td><td style=\"text-align: right;\">  -0.949482</td><td style=\"text-align: right;\"> -0.0633667</td><td>SCH        </td><td style=\"text-align: right;\">       -0.404818</td><td style=\"text-align: right;\">     0.0325133</td><td style=\"text-align: right;\">             0.0334202</td><td style=\"text-align: right;\">                 0</td><td style=\"text-align: right;\">        4</td></tr>\n",
              "<tr><td>M       </td><td style=\"text-align: right;\">-0.42644 </td><td>MAR             </td><td>SPC           </td><td style=\"text-align: right;\">  -0.94655  </td><td style=\"text-align: right;\">      0.288193</td><td style=\"text-align: right;\">  -0.949482</td><td style=\"text-align: right;\"> -0.0633667</td><td>SCH        </td><td style=\"text-align: right;\">       -0.404818</td><td style=\"text-align: right;\">     1.64041  </td><td style=\"text-align: right;\">             0.0334202</td><td style=\"text-align: right;\">                 0</td><td style=\"text-align: right;\">        3</td></tr>\n",
              "<tr><td>F       </td><td style=\"text-align: right;\">-0.900555</td><td>MAR             </td><td>SPC           </td><td style=\"text-align: right;\">  -0.86764  </td><td style=\"text-align: right;\">      0.288193</td><td style=\"text-align: right;\">  -0.949482</td><td style=\"text-align: right;\"> -0.0633667</td><td>SCH        </td><td style=\"text-align: right;\">       -0.404818</td><td style=\"text-align: right;\">     0.0325133</td><td style=\"text-align: right;\">             0.0334202</td><td style=\"text-align: right;\">                 0</td><td style=\"text-align: right;\">        4</td></tr>\n",
              "<tr><td>M       </td><td style=\"text-align: right;\"> 0.80626 </td><td>MAR             </td><td>SPC           </td><td style=\"text-align: right;\">  -0.299729 </td><td style=\"text-align: right;\">     -0.277306</td><td style=\"text-align: right;\">  -0.949482</td><td style=\"text-align: right;\"> -0.386987 </td><td>SCH        </td><td style=\"text-align: right;\">       -0.404818</td><td style=\"text-align: right;\">    -0.503451 </td><td style=\"text-align: right;\">             0.0334202</td><td style=\"text-align: right;\">                 0</td><td style=\"text-align: right;\">        4</td></tr>\n",
              "<tr><td>F       </td><td style=\"text-align: right;\">-0.236794</td><td>MAR             </td><td>SPC           </td><td style=\"text-align: right;\">  -0.299729 </td><td style=\"text-align: right;\">     -0.277306</td><td style=\"text-align: right;\">  -0.949482</td><td style=\"text-align: right;\"> -0.0633667</td><td>SCH        </td><td style=\"text-align: right;\">       -0.404818</td><td style=\"text-align: right;\">    -1.03942  </td><td style=\"text-align: right;\">             0.0334202</td><td style=\"text-align: right;\">                 0</td><td style=\"text-align: right;\">        4</td></tr>\n",
              "<tr><td>M       </td><td style=\"text-align: right;\">-0.236794</td><td>MAR             </td><td>SPC           </td><td style=\"text-align: right;\">  -0.971866 </td><td style=\"text-align: right;\">     -1.40831 </td><td style=\"text-align: right;\">   0.746776</td><td style=\"text-align: right;\"> -0.0633667</td><td>SCH        </td><td style=\"text-align: right;\">       -0.484678</td><td style=\"text-align: right;\">     0.568478 </td><td style=\"text-align: right;\">             0.0334202</td><td style=\"text-align: right;\">                 0</td><td style=\"text-align: right;\">        3</td></tr>\n",
              "<tr><td>F       </td><td style=\"text-align: right;\">-0.995378</td><td>UNM             </td><td>SPC           </td><td style=\"text-align: right;\">   1.34175  </td><td style=\"text-align: right;\">     -0.277306</td><td style=\"text-align: right;\">  -0.949482</td><td style=\"text-align: right;\">  0.346458 </td><td>GRD        </td><td style=\"text-align: right;\">        0.79307 </td><td style=\"text-align: right;\">     0.568478 </td><td style=\"text-align: right;\">             0.0334202</td><td style=\"text-align: right;\">                 0</td><td style=\"text-align: right;\">        3</td></tr>\n",
              "<tr><td>M       </td><td style=\"text-align: right;\">-1.27985 </td><td>UNM             </td><td>SPC           </td><td style=\"text-align: right;\">   0.707254 </td><td style=\"text-align: right;\">      0.288193</td><td style=\"text-align: right;\">   1.17084 </td><td style=\"text-align: right;\"> -0.0633667</td><td>SCH        </td><td style=\"text-align: right;\">        0.393774</td><td style=\"text-align: right;\">     0.568478 </td><td style=\"text-align: right;\">             0.0334202</td><td style=\"text-align: right;\">                 0</td><td style=\"text-align: right;\">        0</td></tr>\n",
              "<tr><td>F       </td><td style=\"text-align: right;\">-0.42644 </td><td>UNM             </td><td>SPC           </td><td style=\"text-align: right;\">   0.0106536</td><td style=\"text-align: right;\">     -0.277306</td><td style=\"text-align: right;\">  -0.949482</td><td style=\"text-align: right;\"> -0.035788 </td><td>GRD        </td><td style=\"text-align: right;\">       -0.025487</td><td style=\"text-align: right;\">     2.71234  </td><td style=\"text-align: right;\">             0.0334202</td><td style=\"text-align: right;\">                 0</td><td style=\"text-align: right;\">        3</td></tr>\n",
              "</tbody>\n",
              "</table>"
            ]
          },
          "metadata": {
            "tags": []
          }
        },
        {
          "output_type": "execute_result",
          "data": {
            "text/plain": [
              ""
            ]
          },
          "metadata": {
            "tags": []
          },
          "execution_count": 86
        }
      ]
    },
    {
      "cell_type": "code",
      "metadata": {
        "id": "13v994UhmkXt",
        "outputId": "daf0cfec-1461-42c8-9d1d-7440957a934b",
        "colab": {
          "base_uri": "https://localhost:8080/",
          "height": 162
        }
      },
      "source": [
        "# profile clusters by means\n",
        "grouped = labeled_frame.group_by(by=['predict'])\n",
        "means = grouped.mean(col=reals).get_frame()\n",
        "print(means)"
      ],
      "execution_count": 87,
      "outputs": [
        {
          "output_type": "display_data",
          "data": {
            "text/html": [
              "<table>\n",
              "<thead>\n",
              "<tr><th style=\"text-align: right;\">  predict</th><th style=\"text-align: right;\">  mean_age</th><th style=\"text-align: right;\">  mean_credit_sum</th><th style=\"text-align: right;\">  mean_credit_month</th><th style=\"text-align: right;\">  mean_tariff_id</th><th style=\"text-align: right;\">  mean_score_shk</th><th style=\"text-align: right;\">  mean_monthly_income</th><th style=\"text-align: right;\">  mean_credit_count</th><th style=\"text-align: right;\">  mean_overdue_credit_count</th></tr>\n",
              "</thead>\n",
              "<tbody>\n",
              "<tr><td style=\"text-align: right;\">        0</td><td style=\"text-align: right;\">-0.397187 </td><td style=\"text-align: right;\">        0.0501739</td><td style=\"text-align: right;\">         -0.14953  </td><td style=\"text-align: right;\">       1.03762  </td><td style=\"text-align: right;\">        1.01362 </td><td style=\"text-align: right;\">           -0.218986 </td><td style=\"text-align: right;\">          -0.399607</td><td style=\"text-align: right;\">                 -0.209179 </td></tr>\n",
              "<tr><td style=\"text-align: right;\">        1</td><td style=\"text-align: right;\"> 0.03172  </td><td style=\"text-align: right;\">        1.73559  </td><td style=\"text-align: right;\">         -0.0890107</td><td style=\"text-align: right;\">       0.0274755</td><td style=\"text-align: right;\">       -0.219949</td><td style=\"text-align: right;\">            2.04715  </td><td style=\"text-align: right;\">           0.219094</td><td style=\"text-align: right;\">                  0.12809  </td></tr>\n",
              "<tr><td style=\"text-align: right;\">        2</td><td style=\"text-align: right;\"> 0.0280553</td><td style=\"text-align: right;\">        0.630307 </td><td style=\"text-align: right;\">          3.39219  </td><td style=\"text-align: right;\">      -0.272166 </td><td style=\"text-align: right;\">       -0.120267</td><td style=\"text-align: right;\">           -0.0769416</td><td style=\"text-align: right;\">           0.145579</td><td style=\"text-align: right;\">                  0.0281877</td></tr>\n",
              "<tr><td style=\"text-align: right;\">        3</td><td style=\"text-align: right;\">-0.0576824</td><td style=\"text-align: right;\">       -0.0628639</td><td style=\"text-align: right;\">         -0.197894 </td><td style=\"text-align: right;\">      -0.305372 </td><td style=\"text-align: right;\">       -0.563448</td><td style=\"text-align: right;\">            0.205869 </td><td style=\"text-align: right;\">           0.747711</td><td style=\"text-align: right;\">                  0.314081 </td></tr>\n",
              "<tr><td style=\"text-align: right;\">        4</td><td style=\"text-align: right;\"> 0.365794 </td><td style=\"text-align: right;\">       -0.488816 </td><td style=\"text-align: right;\">         -0.246293 </td><td style=\"text-align: right;\">      -0.597604 </td><td style=\"text-align: right;\">       -0.346978</td><td style=\"text-align: right;\">           -0.42726  </td><td style=\"text-align: right;\">          -0.31368 </td><td style=\"text-align: right;\">                 -0.100008 </td></tr>\n",
              "</tbody>\n",
              "</table>"
            ]
          },
          "metadata": {
            "tags": []
          }
        },
        {
          "output_type": "stream",
          "text": [
            "\n"
          ],
          "name": "stdout"
        }
      ]
    },
    {
      "cell_type": "code",
      "metadata": {
        "id": "EVQ_1TvVmkHU",
        "outputId": "73702b33-897f-46cd-db03-d294a651ac72",
        "colab": {
          "base_uri": "https://localhost:8080/",
          "height": 162
        }
      },
      "source": [
        "# profile clusters by modes\n",
        "grouped = labeled_frame.group_by(by=['predict'])\n",
        "modes = grouped.mode(col=enums).get_frame()\n",
        "print(modes)"
      ],
      "execution_count": 88,
      "outputs": [
        {
          "output_type": "display_data",
          "data": {
            "text/html": [
              "<table>\n",
              "<thead>\n",
              "<tr><th style=\"text-align: right;\">  predict</th><th style=\"text-align: right;\">  mode_gender</th><th style=\"text-align: right;\">  mode_marital_status</th><th style=\"text-align: right;\">  mode_job_position</th><th style=\"text-align: right;\">  mode_education</th></tr>\n",
              "</thead>\n",
              "<tbody>\n",
              "<tr><td style=\"text-align: right;\">        0</td><td style=\"text-align: right;\">            0</td><td style=\"text-align: right;\">                    3</td><td style=\"text-align: right;\">                  9</td><td style=\"text-align: right;\">               3</td></tr>\n",
              "<tr><td style=\"text-align: right;\">        1</td><td style=\"text-align: right;\">            1</td><td style=\"text-align: right;\">                    2</td><td style=\"text-align: right;\">                  9</td><td style=\"text-align: right;\">               1</td></tr>\n",
              "<tr><td style=\"text-align: right;\">        2</td><td style=\"text-align: right;\">            0</td><td style=\"text-align: right;\">                    2</td><td style=\"text-align: right;\">                  9</td><td style=\"text-align: right;\">               3</td></tr>\n",
              "<tr><td style=\"text-align: right;\">        3</td><td style=\"text-align: right;\">            1</td><td style=\"text-align: right;\">                    2</td><td style=\"text-align: right;\">                  9</td><td style=\"text-align: right;\">               1</td></tr>\n",
              "<tr><td style=\"text-align: right;\">        4</td><td style=\"text-align: right;\">            0</td><td style=\"text-align: right;\">                    2</td><td style=\"text-align: right;\">                  9</td><td style=\"text-align: right;\">               3</td></tr>\n",
              "</tbody>\n",
              "</table>"
            ]
          },
          "metadata": {
            "tags": []
          }
        },
        {
          "output_type": "stream",
          "text": [
            "\n"
          ],
          "name": "stdout"
        }
      ]
    },
    {
      "cell_type": "code",
      "metadata": {
        "id": "W1RWQpndmj-v"
      },
      "source": [
        "# define a function for plotting clusters in 2-d\n",
        "def plot(_2d_labeled_frame):\n",
        "\n",
        "    _0 = plt.scatter(features_pandas[_2d_labeled_frame.label == 0].iloc[0:750, 0], \n",
        "                     features_pandas[_2d_labeled_frame.label == 0].iloc[0:750, 1],\n",
        "                     color='m', marker='^', alpha=.15)\n",
        "\n",
        "    _1 = plt.scatter(features_pandas[_2d_labeled_frame.label == 1].iloc[0:750, 0], \n",
        "                     features_pandas[_2d_labeled_frame.label == 1].iloc[0:750, 1],\n",
        "                     color='c', alpha=.15)\n",
        "\n",
        "    _2 = plt.scatter(features_pandas[_2d_labeled_frame.label == 2].iloc[0:750, 0], \n",
        "                     features_pandas[_2d_labeled_frame.label == 2].iloc[0:750, 1],\n",
        "                     color='g', marker='s', alpha=.15)          \n",
        "    _3 = plt.scatter(features_pandas[_2d_labeled_frame.label == 3].iloc[0:750, 0], \n",
        "                     features_pandas[_2d_labeled_frame.label == 3].iloc[0:750, 1],\n",
        "                     color='y', marker='s', alpha=.15)      \n",
        "    _4 = plt.scatter(features_pandas[_2d_labeled_frame.label == 4].iloc[0:750, 0], \n",
        "                     features_pandas[_2d_labeled_frame.label == 4].iloc[0:750, 1],\n",
        "                     color='r', marker='s', alpha=.15)           \n",
        "                     \n",
        "    plt.legend([_0, _1, _2, _3, _4], \n",
        "               ['Cluster 0', 'Cluster 1', 'Cluster 2', 'Cluster 3', 'Cluster 4'],\n",
        "               bbox_to_anchor=(1.05, 0.0), \n",
        "               loc=3, borderaxespad=0.)\n",
        "    \n",
        "    plt.xlabel('Dimension 1')\n",
        "    plt.ylabel('Dimension 2')"
      ],
      "execution_count": 89,
      "outputs": []
    },
    {
      "cell_type": "code",
      "metadata": {
        "id": "J02db53AnCyu"
      },
      "source": [
        ""
      ],
      "execution_count": null,
      "outputs": []
    },
    {
      "cell_type": "code",
      "metadata": {
        "id": "fhi2EdoInC3t",
        "outputId": "a9186987-0533-4a59-aaa0-a1f6f8eae424",
        "colab": {
          "base_uri": "https://localhost:8080/",
          "height": 469
        }
      },
      "source": [
        "# project training data onto 2-D using principal components\n",
        "# join with clusters labels\n",
        "# plot\n",
        "pca = H2OPrincipalComponentAnalysisEstimator(k=5) # project onto 2 PCs\n",
        "pca.train(x=reals, training_frame=labeled_frame)\n",
        "features = pca.predict(labeled_frame)\n",
        "features_pandas = features.as_data_frame()\n",
        "features_pandas['label'] = labeled_frame[-1].as_data_frame()\n",
        "print(features_pandas.head())\n",
        "plot(features_pandas)"
      ],
      "execution_count": 90,
      "outputs": [
        {
          "output_type": "stream",
          "text": [
            "pca Model Build progress: |███████████████████████████████████████████████| 100%\n"
          ],
          "name": "stdout"
        },
        {
          "output_type": "stream",
          "text": [
            "/usr/local/lib/python3.6/dist-packages/h2o/job.py:70: UserWarning: _train: Dataset used may contain fewer number of rows due to removal of rows with NA/missing values.  If this is not desirable, set impute_missing argument in pca call to TRUE/True/true/... depending on the client language.\n",
            "  warnings.warn(w)\n"
          ],
          "name": "stderr"
        },
        {
          "output_type": "stream",
          "text": [
            "pca prediction progress: |████████████████████████████████████████████████| 100%\n",
            "        PC1       PC2       PC3       PC4       PC5  label\n",
            "0 -0.313628  1.752810  1.644603  0.098752  0.347064      3\n",
            "1 -0.281480 -1.498655  0.035341  0.904886  0.565131      4\n",
            "2 -1.085478 -0.590177  0.248480 -0.452581  1.265739      3\n",
            "3 -0.054574 -0.806855 -0.347471 -0.403087  1.238772      4\n",
            "4 -0.579507 -1.004132 -0.486492 -0.172327 -0.487769      4\n"
          ],
          "name": "stdout"
        },
        {
          "output_type": "display_data",
          "data": {
            "image/png": "[encoded data removed]",
            "text/plain": [
              "<Figure size 432x288 with 1 Axes>"
            ]
          },
          "metadata": {
            "tags": [],
            "needs_background": "light"
          }
        }
      ]
    },
    {
      "cell_type": "code",
      "metadata": {
        "id": "MRIp25HDnC1n"
      },
      "source": [
        ""
      ],
      "execution_count": null,
      "outputs": []
    },
    {
      "cell_type": "code",
      "metadata": {
        "id": "KylL0Kg1nCwW"
      },
      "source": [
        ""
      ],
      "execution_count": null,
      "outputs": []
    }
  ]
}