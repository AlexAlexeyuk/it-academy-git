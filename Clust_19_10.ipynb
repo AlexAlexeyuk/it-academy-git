{
 "cells": [
  {
   "cell_type": "raw",
   "metadata": {},
   "source": [
    "Цели работы: 1) Провести \"улучшенную\" подготовку данных\n",
    "2) Применить самостоятельно на практике кодирование категориальных переменных\n",
    "3) Применить на практике метод \"StandartScaler\"\n",
    "4) Разобраться с методом главных компонент на примере данных, найти необходимое количество главных компонент\n",
    "5) Провести кластеризацию "
   ]
  },
  {
   "cell_type": "code",
   "execution_count": null,
   "metadata": {},
   "outputs": [],
   "source": []
  },
  {
   "cell_type": "code",
   "execution_count": 1,
   "metadata": {},
   "outputs": [],
   "source": [
    "\n",
    "import numpy as np\n",
    "import pandas as pd"
   ]
  },
  {
   "cell_type": "code",
   "execution_count": 2,
   "metadata": {},
   "outputs": [],
   "source": [
    "data = pd.read_csv('credit_train.csv', encoding='cp1251', sep=';')\n",
    "# готовим некоторые данные\n",
    "data['score_shk'] = data['score_shk'].str.replace(',','.').astype(float)\n",
    "data['credit_sum'] = data['credit_sum'].str.replace(',','.').astype(float)\n",
    "# преобразуем указанные переменные в тип object\n",
    "for i in ['tariff_id', 'open_account_flg']:\n",
    "    data[i] = data[i].astype('object')\n",
    "data['living_region'] = data['living_region'].astype(str)\n",
    "from_replace = ['\\s?(ОБЛАСТЬ|ОБЛ\\.|ОБЛ|КРАЙ\\.|КРАЙ|РЕСПУБЛИКА|РЕСП\\.|РЕСП|Г\\.\\s|Г\\s|\\sГ|АО|Р-Н)\\s?', '74',\n",
    "                '98|САНКТ-ПЕТЕРБУРГ', 'ЕВРЕЙСКАЯБЛ', 'КАМЧАТСКАЯ|КАМЧАТС\\?\\?ИЙ', '(МОСКВА|МОСКВОСКАЯ|МЫТИЩИНСКИЙ)',\n",
    "                '(САХА \\(ЯКУТИЯ\\)|САХА \\/ЯКУТИЯ\\/)', 'СЕВ\\. ОСЕТИЯ - АЛАНИЯ', 'ХАНТЫ-МАНСИЙСКИЙ АВТОНОМНЫЙ ОКРУ- ЮГРА',\n",
    "                'ХАНТЫ-МАНСИЙСКИЙ АВТОНОМНЫЙ ОКРУ- Ю', '(ЧУВАШИЯ\\sЧУВАШСКАЯ-|ЧУВАШСКАЯ\\s?-\\sЧУВАШИЯ)', 'БЛ ЕВРЕЙСКАЯ', \n",
    "                'БРЯНСКИЙ', 'ГОРЬКОВСКАЯ', 'ОРЁЛ', 'ПЕРМСКАЯ', 'ПРИВОЛЖСКИЙ ФЕДЕРАЛЬНЫЙ ОКРУГ', 'ЭВЕНКИЙСКИЙ', \n",
    "                'nan|ГУСЬ-ХРУСТАЛЬНЫЙ|МОСКОВСКИЙ\\sП|РОССИЯ', 'ХАНТЫ-МАНСИЙСКИЙ-ЮГРА', 'ЧЕЛЯБИНСК$', 'ЧИТИНСКАЯ',\n",
    "                'ЧУКОТСКИЙ\\sАO', 'Г.МОСКОВСКАЯ', 'Г.ОДИНЦОВО\\sМОСКОВСКАЯ', 'ДАЛЬНИЙ\\sВОСТОК']\n",
    "to_replace = ['', 'ЧЕЛЯБИНСКАЯ', 'ЛЕНИНГРАДСКАЯ', 'ЕВРЕЙСКАЯ АВТОНОМНАЯ',\n",
    "              'КАМЧАТСКИЙ', 'МОСКОВСКАЯ', 'САХА', 'СЕВЕРНАЯ ОСЕТИЯ - АЛАНИЯ',\n",
    "              'ХАНТЫ-МАНСИЙСКИЙ', 'ХАНТЫ-МАНСИЙСКИЙ', 'ЧУВАШСКАЯ', 'ЕВРЕЙСКАЯ АВТОНОМНАЯ',\n",
    "              'БРЯНСКАЯ', 'НИЖЕГОРОДСКАЯ', 'ОРЛОВСКАЯ', 'ПЕРМСКИЙ', 'МОСКОВСКАЯ', 'КРАСНОЯРСКИЙ', \n",
    "              'МОСКОВСКАЯ', 'ХАНТЫ-МАНСИЙСКИЙ', 'ЧЕЛЯБИНСКАЯ', 'ЗАБАЙКАЛЬСКИЙ', 'ЧУКОТСКИЙ', \n",
    "              'МОСКОВСКАЯ', 'МОСКОВСКАЯ', 'ПРИМОРСКИЙ']\n",
    "data['living_region'].replace(from_replace, to_replace, regex=True, inplace=True)\n",
    "    \n",
    "    \n",
    "data.at[data['job_position'] == 'PNV', 'job_position'] = 'OTHER'\n",
    "data.at[data['job_position'] == 'PNS', 'job_position'] = 'OTHER'\n",
    "data.at[data['job_position'] == 'HSK', 'job_position'] = 'OTHER'\n",
    "data.at[data['job_position'] == 'INV', 'job_position'] = 'OTHER'\n",
    "data.at[data['job_position'] == 'ONB', 'job_position'] = 'OTHER'\n",
    "data.loc[data['tariff_id'].value_counts()[data['tariff_id']].values < 55, \n",
    "         'tariff_id'] = '1.99'\n",
    "    \n",
    "region_series = data['living_region'].value_counts()\n",
    "mask = (region_series/region_series.sum() * 100).lt(0.029)\n",
    "data['living_region'] = np.where(data['living_region'].isin(region_series[mask].index), \n",
    "                                 'OTHER', data['living_region'])\n",
    "data['age'].fillna(data['age'].median(), inplace=True)\n",
    "for i in ['credit_sum', 'score_shk']:\n",
    "    data[i].fillna(data[i].median(), inplace=True)\n",
    "data['monthly_income'].fillna(30000.0, inplace=True)\n",
    "for i in ['credit_count', 'overdue_credit_count']:\n",
    "    data[i].fillna(-1, inplace=True)\n",
    "data['marital_status'] = data['marital_status'].fillna('MAR')\n",
    "data['education'].fillna(data['education'].value_counts().index[0], inplace=True)\n",
    "data['tariff'] = data['tariff_id'].astype('float')"
   ]
  },
  {
   "cell_type": "code",
   "execution_count": 6,
   "metadata": {},
   "outputs": [
    {
     "name": "stdout",
     "output_type": "stream",
     "text": [
      "Populating the interactive namespace from numpy and matplotlib\n"
     ]
    }
   ],
   "source": [
    "from __future__ import division, print_function\n",
    "# отключим всякие предупреждения Anaconda\n",
    "import warnings\n",
    "warnings.filterwarnings('ignore')\n",
    "import numpy as np\n",
    "import pandas as pd\n",
    "import seaborn as sns\n",
    "%pylab inline"
   ]
  },
  {
   "cell_type": "code",
   "execution_count": 7,
   "metadata": {},
   "outputs": [],
   "source": [
    "from sklearn import preprocessing\n",
    "from sklearn.linear_model import LogisticRegression\n",
    "from sklearn.neighbors import KNeighborsClassifier\n",
    "from sklearn.ensemble import RandomForestClassifier\n",
    "from sklearn.cluster import KMeans \n",
    "from sklearn.ensemble import GradientBoostingClassifier\n",
    "from sklearn.svm import SVC\n",
    "\n",
    "from sklearn.model_selection import GridSearchCV\n",
    "from sklearn.model_selection import validation_curve\n",
    "from sklearn.model_selection import learning_curve\n",
    "from sklearn.metrics import accuracy_score, roc_auc_score"
   ]
  },
  {
   "cell_type": "code",
   "execution_count": 8,
   "metadata": {},
   "outputs": [],
   "source": [
    "region_encoder = preprocessing.LabelEncoder()\n",
    "data['living_region'] = region_encoder.fit_transform(list(data['living_region']))"
   ]
  },
  {
   "cell_type": "code",
   "execution_count": 9,
   "metadata": {},
   "outputs": [],
   "source": [
    "data['living_region'] = data['living_region'].astype('category')"
   ]
  },
  {
   "cell_type": "code",
   "execution_count": 10,
   "metadata": {},
   "outputs": [],
   "source": [
    "central = ['Белгородская', 'Брянская', 'Владимирская', 'Воронежская', \n",
    "         'Ивановская', 'Калужская', 'Костромская', 'Курская', 'Липецкая', 'Московская', \n",
    "           'Орловская', 'Рязанская', 'Смоленская', 'Тамбовская', 'Тверская', 'Тульская', \n",
    "           'Ярославская', 'Москва']\n",
    "central = [x.upper() for x in central]\n",
    "\n",
    "sev_zap = ['Карелия', 'Коми', 'Архангельская', 'Ненецкий', 'Вологодская', 'Калининградская', \n",
    "           'Ленинградская', 'Мурманская', 'Новгородская', 'Псковская', 'Санкт-Петербург']\n",
    "sev_zap = [x.upper() for x in sev_zap]\n",
    "\n",
    "yug = ['Адыгея', 'Калмыкия', 'Краснодарский', 'Астраханская', 'Волгоградская', 'Ростовская']\n",
    "yug = [x.upper() for x in yug]\n",
    "\n",
    "kavkaz = ['Ставропольский', 'Ингушетия', 'Дагестан', 'Чеченская', 'Кабардино-Балкарская', \n",
    " 'Карачаево-Черкесская', 'Северная Осетия']\n",
    "kavkaz = [x.upper() for x in kavkaz]\n",
    "\n",
    "volga = ['Башкортостан', 'Марий Эл', 'Мордовия', 'ПРИВОЛЖСКИЙ ФЕДЕРАЛЬНЫЙ ОКРУГ', 'Татарстан', \n",
    "         'Удмуртская', 'Чувашская', 'Кировская', 'Нижегородская', 'Оренбургская', 'Пензенская', \n",
    "         'ПЕРМСКИЙ', 'Самарская', 'Саратовская', 'Ульяновская']\n",
    "volga = [x.upper() for x in volga]\n",
    "\n",
    "ural = ['Курганская', 'Свердловская', 'Тюменская', 'Челябинская', 'Ханты-Мансийский', \n",
    "        'Ямало-Ненецкий']\n",
    "ural = [x.upper() for x in ural]\n",
    "\n",
    "sibir = ['Алтай', 'Бурятия', 'Тыва', 'Хакасия', 'Алтайский', 'Забайкальский', 'Красноярский', \n",
    "         'Иркутская', 'Кемеровская', 'Новосибирская', 'Омская', 'Томская']\n",
    "sibir = [x.upper() for x in sibir]\n",
    "\n",
    "dvostok = ['Якутия', 'камчатский', 'приморский', 'хабаровский', 'амурская', \n",
    "           'магаданская', 'сахалинская', 'еврейская', 'чукотский', 'ДАЛЬНИЙ ВОСТОК']\n",
    "dvostok = [x.upper() for x in dvostok]\n",
    "\n",
    "russia = ['РОССИЯ']"
   ]
  },
  {
   "cell_type": "code",
   "execution_count": 12,
   "metadata": {},
   "outputs": [],
   "source": [
    "data['fed_reg'] = 1\n",
    "def label_fed_reg(x):\n",
    "    if x in central:\n",
    "        return 'central'\n",
    "    if x in sev_zap:\n",
    "        return 'sev_zap'\n",
    "    if x in ural:\n",
    "        return 'ural'\n",
    "    if x in yug:\n",
    "        return 'yug'\n",
    "    if x in kavkaz:\n",
    "        return 'kavkaz'\n",
    "    if x in volga:\n",
    "        return 'volga'\n",
    "    if x in sibir:\n",
    "        return 'sibir'\n",
    "    if x in dvostok:\n",
    "        return 'dvostok'\n",
    "    if x in russia:\n",
    "        return 'russia'\n",
    "    else:\n",
    "        return 'russia'\n",
    "data['fed_reg'] = data['living_region'].apply(lambda x: label_fed_reg(x))\n"
   ]
  },
  {
   "cell_type": "code",
   "execution_count": 13,
   "metadata": {},
   "outputs": [],
   "source": [
    "fo_encoder = preprocessing.LabelEncoder()\n",
    "data['fed_reg_enc'] = fo_encoder.fit_transform(list(data['fed_reg'])).astype('int')"
   ]
  },
  {
   "cell_type": "code",
   "execution_count": 14,
   "metadata": {},
   "outputs": [],
   "source": [
    "data['clean_region_freq'] = data.groupby('living_region')['living_region'].transform('count')"
   ]
  },
  {
   "cell_type": "code",
   "execution_count": 15,
   "metadata": {},
   "outputs": [],
   "source": [
    "data['fed_reg_freq'] = data.groupby('fed_reg')['fed_reg'].transform('count')\n",
    "data['reg_freq_fed_freq'] = data['clean_region_freq']/data['fed_reg_freq']\n"
   ]
  },
  {
   "cell_type": "code",
   "execution_count": 16,
   "metadata": {},
   "outputs": [],
   "source": [
    "data.drop(['clean_region_freq', 'fed_reg_freq', 'living_region', 'fed_reg'], axis=1, inplace=True)"
   ]
  },
  {
   "cell_type": "code",
   "execution_count": 17,
   "metadata": {},
   "outputs": [],
   "source": [
    "data['credit_divide10000'] = (data['credit_sum'] % 1000 == 0).astype('int')"
   ]
  },
  {
   "cell_type": "code",
   "execution_count": 18,
   "metadata": {},
   "outputs": [],
   "source": [
    "data['credit_kopeyka'] = data['credit_sum'].astype('str').map(lambda x: int(x[-1]))"
   ]
  },
  {
   "cell_type": "code",
   "execution_count": 19,
   "metadata": {},
   "outputs": [],
   "source": [
    "data['credit_kopeyka'] = (data['credit_kopeyka'] > 0).astype('int')"
   ]
  },
  {
   "cell_type": "code",
   "execution_count": 20,
   "metadata": {},
   "outputs": [],
   "source": [
    "data['overdue_ratio'] = data['overdue_credit_count']/data['credit_count']\n",
    "data['credit_income_ratio'] = data['credit_sum']/data['monthly_income']\n",
    "data['monthly_payment'] = data['credit_sum']/data['credit_month']"
   ]
  },
  {
   "cell_type": "code",
   "execution_count": 21,
   "metadata": {},
   "outputs": [],
   "source": [
    "data['overdue_ratio'].fillna(0, inplace=True)"
   ]
  },
  {
   "cell_type": "code",
   "execution_count": 22,
   "metadata": {},
   "outputs": [],
   "source": [
    "data['monthly_income_sq'] = pow(data['monthly_income'], 2)"
   ]
  },
  {
   "cell_type": "code",
   "execution_count": 23,
   "metadata": {},
   "outputs": [],
   "source": [
    "data['age_sq'] = pow(data['age'], 2)"
   ]
  },
  {
   "cell_type": "code",
   "execution_count": 24,
   "metadata": {},
   "outputs": [],
   "source": [
    "data['credit_sum_sq'] = pow(data['credit_sum'], 2)"
   ]
  },
  {
   "cell_type": "code",
   "execution_count": 25,
   "metadata": {},
   "outputs": [
    {
     "data": {
      "text/html": [
       "<div>\n",
       "<style scoped>\n",
       "    .dataframe tbody tr th:only-of-type {\n",
       "        vertical-align: middle;\n",
       "    }\n",
       "\n",
       "    .dataframe tbody tr th {\n",
       "        vertical-align: top;\n",
       "    }\n",
       "\n",
       "    .dataframe thead th {\n",
       "        text-align: right;\n",
       "    }\n",
       "</style>\n",
       "<table border=\"1\" class=\"dataframe\">\n",
       "  <thead>\n",
       "    <tr style=\"text-align: right;\">\n",
       "      <th></th>\n",
       "      <th>0</th>\n",
       "      <th>1</th>\n",
       "    </tr>\n",
       "  </thead>\n",
       "  <tbody>\n",
       "    <tr>\n",
       "      <th>client_id</th>\n",
       "      <td>1</td>\n",
       "      <td>2</td>\n",
       "    </tr>\n",
       "    <tr>\n",
       "      <th>gender</th>\n",
       "      <td>M</td>\n",
       "      <td>F</td>\n",
       "    </tr>\n",
       "    <tr>\n",
       "      <th>age</th>\n",
       "      <td>34</td>\n",
       "      <td>34</td>\n",
       "    </tr>\n",
       "    <tr>\n",
       "      <th>marital_status</th>\n",
       "      <td>MAR</td>\n",
       "      <td>MAR</td>\n",
       "    </tr>\n",
       "    <tr>\n",
       "      <th>job_position</th>\n",
       "      <td>UMN</td>\n",
       "      <td>UMN</td>\n",
       "    </tr>\n",
       "    <tr>\n",
       "      <th>credit_sum</th>\n",
       "      <td>59998</td>\n",
       "      <td>10889</td>\n",
       "    </tr>\n",
       "    <tr>\n",
       "      <th>credit_month</th>\n",
       "      <td>10</td>\n",
       "      <td>6</td>\n",
       "    </tr>\n",
       "    <tr>\n",
       "      <th>tariff_id</th>\n",
       "      <td>1.6</td>\n",
       "      <td>1.1</td>\n",
       "    </tr>\n",
       "    <tr>\n",
       "      <th>score_shk</th>\n",
       "      <td>0.461599</td>\n",
       "      <td>0.461599</td>\n",
       "    </tr>\n",
       "    <tr>\n",
       "      <th>education</th>\n",
       "      <td>GRD</td>\n",
       "      <td>SCH</td>\n",
       "    </tr>\n",
       "    <tr>\n",
       "      <th>monthly_income</th>\n",
       "      <td>30000</td>\n",
       "      <td>30000</td>\n",
       "    </tr>\n",
       "    <tr>\n",
       "      <th>credit_count</th>\n",
       "      <td>1</td>\n",
       "      <td>2</td>\n",
       "    </tr>\n",
       "    <tr>\n",
       "      <th>overdue_credit_count</th>\n",
       "      <td>1</td>\n",
       "      <td>0</td>\n",
       "    </tr>\n",
       "    <tr>\n",
       "      <th>open_account_flg</th>\n",
       "      <td>0</td>\n",
       "      <td>0</td>\n",
       "    </tr>\n",
       "    <tr>\n",
       "      <th>tariff</th>\n",
       "      <td>1.6</td>\n",
       "      <td>1.1</td>\n",
       "    </tr>\n",
       "    <tr>\n",
       "      <th>fed_reg_enc</th>\n",
       "      <td>0</td>\n",
       "      <td>0</td>\n",
       "    </tr>\n",
       "    <tr>\n",
       "      <th>reg_freq_fed_freq</th>\n",
       "      <td>0.0489323</td>\n",
       "      <td>0.130574</td>\n",
       "    </tr>\n",
       "    <tr>\n",
       "      <th>credit_divide10000</th>\n",
       "      <td>0</td>\n",
       "      <td>0</td>\n",
       "    </tr>\n",
       "    <tr>\n",
       "      <th>credit_kopeyka</th>\n",
       "      <td>0</td>\n",
       "      <td>0</td>\n",
       "    </tr>\n",
       "    <tr>\n",
       "      <th>overdue_ratio</th>\n",
       "      <td>1</td>\n",
       "      <td>0</td>\n",
       "    </tr>\n",
       "    <tr>\n",
       "      <th>credit_income_ratio</th>\n",
       "      <td>1.99993</td>\n",
       "      <td>0.362967</td>\n",
       "    </tr>\n",
       "    <tr>\n",
       "      <th>monthly_payment</th>\n",
       "      <td>5999.8</td>\n",
       "      <td>1814.83</td>\n",
       "    </tr>\n",
       "    <tr>\n",
       "      <th>monthly_income_sq</th>\n",
       "      <td>9e+08</td>\n",
       "      <td>9e+08</td>\n",
       "    </tr>\n",
       "    <tr>\n",
       "      <th>age_sq</th>\n",
       "      <td>1156</td>\n",
       "      <td>1156</td>\n",
       "    </tr>\n",
       "    <tr>\n",
       "      <th>credit_sum_sq</th>\n",
       "      <td>3.59976e+09</td>\n",
       "      <td>1.1857e+08</td>\n",
       "    </tr>\n",
       "  </tbody>\n",
       "</table>\n",
       "</div>"
      ],
      "text/plain": [
       "                                0           1\n",
       "client_id                       1           2\n",
       "gender                          M           F\n",
       "age                            34          34\n",
       "marital_status                MAR         MAR\n",
       "job_position                  UMN         UMN\n",
       "credit_sum                  59998       10889\n",
       "credit_month                   10           6\n",
       "tariff_id                     1.6         1.1\n",
       "score_shk                0.461599    0.461599\n",
       "education                     GRD         SCH\n",
       "monthly_income              30000       30000\n",
       "credit_count                    1           2\n",
       "overdue_credit_count            1           0\n",
       "open_account_flg                0           0\n",
       "tariff                        1.6         1.1\n",
       "fed_reg_enc                     0           0\n",
       "reg_freq_fed_freq       0.0489323    0.130574\n",
       "credit_divide10000              0           0\n",
       "credit_kopeyka                  0           0\n",
       "overdue_ratio                   1           0\n",
       "credit_income_ratio       1.99993    0.362967\n",
       "monthly_payment            5999.8     1814.83\n",
       "monthly_income_sq           9e+08       9e+08\n",
       "age_sq                       1156        1156\n",
       "credit_sum_sq         3.59976e+09  1.1857e+08"
      ]
     },
     "execution_count": 25,
     "metadata": {},
     "output_type": "execute_result"
    }
   ],
   "source": [
    "data.head(2).T"
   ]
  },
  {
   "cell_type": "code",
   "execution_count": 27,
   "metadata": {},
   "outputs": [],
   "source": [
    "data_dummies = pd.concat([\n",
    "                        pd.get_dummies(data.gender, prefix = 'sex'),\n",
    "                        pd.get_dummies(data.marital_status , prefix = 'marital'),\n",
    "                        pd.get_dummies(data.job_position, prefix = 'job'),\n",
    "                        pd.get_dummies(data.tariff_id , prefix = 'tariff'),\n",
    "                        pd.get_dummies(data.education , prefix = 'educ'),\n",
    "                        pd.get_dummies(data.fed_reg_enc , prefix = 'fed_reg'),\n",
    "                        pd.get_dummies(data.fed_reg_enc , prefix = 'living_region'),\n",
    "                        data.age,\n",
    "                        data.age_sq,\n",
    "                        data.credit_sum,\n",
    "                        data.credit_sum_sq,\n",
    "                        data.credit_month,\n",
    "                        data.score_shk,\n",
    "                        data.monthly_income,\n",
    "                        data.monthly_income_sq,\n",
    "                        data.credit_count,\n",
    "                        data.overdue_credit_count,   \n",
    "                        data.monthly_payment,\n",
    "                        data.credit_income_ratio,\n",
    "                        data.overdue_ratio,\n",
    "                        data.credit_kopeyka,\n",
    "                        data.credit_divide10000,\n",
    "                        data.reg_freq_fed_freq], axis=1)"
   ]
  },
  {
   "cell_type": "code",
   "execution_count": 28,
   "metadata": {},
   "outputs": [
    {
     "data": {
      "text/html": [
       "<div>\n",
       "<style scoped>\n",
       "    .dataframe tbody tr th:only-of-type {\n",
       "        vertical-align: middle;\n",
       "    }\n",
       "\n",
       "    .dataframe tbody tr th {\n",
       "        vertical-align: top;\n",
       "    }\n",
       "\n",
       "    .dataframe thead th {\n",
       "        text-align: right;\n",
       "    }\n",
       "</style>\n",
       "<table border=\"1\" class=\"dataframe\">\n",
       "  <thead>\n",
       "    <tr style=\"text-align: right;\">\n",
       "      <th></th>\n",
       "      <th>sex_F</th>\n",
       "      <th>sex_M</th>\n",
       "      <th>marital_CIV</th>\n",
       "      <th>marital_DIV</th>\n",
       "      <th>marital_MAR</th>\n",
       "      <th>marital_UNM</th>\n",
       "      <th>marital_WID</th>\n",
       "      <th>job_ATP</th>\n",
       "      <th>job_BIS</th>\n",
       "      <th>job_BIU</th>\n",
       "      <th>...</th>\n",
       "      <th>monthly_income</th>\n",
       "      <th>monthly_income_sq</th>\n",
       "      <th>credit_count</th>\n",
       "      <th>overdue_credit_count</th>\n",
       "      <th>monthly_payment</th>\n",
       "      <th>credit_income_ratio</th>\n",
       "      <th>overdue_ratio</th>\n",
       "      <th>credit_kopeyka</th>\n",
       "      <th>credit_divide10000</th>\n",
       "      <th>reg_freq_fed_freq</th>\n",
       "    </tr>\n",
       "  </thead>\n",
       "  <tbody>\n",
       "    <tr>\n",
       "      <th>0</th>\n",
       "      <td>0</td>\n",
       "      <td>1</td>\n",
       "      <td>0</td>\n",
       "      <td>0</td>\n",
       "      <td>1</td>\n",
       "      <td>0</td>\n",
       "      <td>0</td>\n",
       "      <td>0</td>\n",
       "      <td>0</td>\n",
       "      <td>0</td>\n",
       "      <td>...</td>\n",
       "      <td>30000.0</td>\n",
       "      <td>900000000.0</td>\n",
       "      <td>1.0</td>\n",
       "      <td>1.0</td>\n",
       "      <td>5999.800000</td>\n",
       "      <td>1.999933</td>\n",
       "      <td>1.0</td>\n",
       "      <td>0</td>\n",
       "      <td>0</td>\n",
       "      <td>0.048932</td>\n",
       "    </tr>\n",
       "    <tr>\n",
       "      <th>1</th>\n",
       "      <td>1</td>\n",
       "      <td>0</td>\n",
       "      <td>0</td>\n",
       "      <td>0</td>\n",
       "      <td>1</td>\n",
       "      <td>0</td>\n",
       "      <td>0</td>\n",
       "      <td>0</td>\n",
       "      <td>0</td>\n",
       "      <td>0</td>\n",
       "      <td>...</td>\n",
       "      <td>30000.0</td>\n",
       "      <td>900000000.0</td>\n",
       "      <td>2.0</td>\n",
       "      <td>0.0</td>\n",
       "      <td>1814.833333</td>\n",
       "      <td>0.362967</td>\n",
       "      <td>0.0</td>\n",
       "      <td>0</td>\n",
       "      <td>0</td>\n",
       "      <td>0.130574</td>\n",
       "    </tr>\n",
       "    <tr>\n",
       "      <th>2</th>\n",
       "      <td>0</td>\n",
       "      <td>1</td>\n",
       "      <td>0</td>\n",
       "      <td>0</td>\n",
       "      <td>1</td>\n",
       "      <td>0</td>\n",
       "      <td>0</td>\n",
       "      <td>0</td>\n",
       "      <td>0</td>\n",
       "      <td>0</td>\n",
       "      <td>...</td>\n",
       "      <td>30000.0</td>\n",
       "      <td>900000000.0</td>\n",
       "      <td>5.0</td>\n",
       "      <td>0.0</td>\n",
       "      <td>894.000000</td>\n",
       "      <td>0.357600</td>\n",
       "      <td>0.0</td>\n",
       "      <td>0</td>\n",
       "      <td>0</td>\n",
       "      <td>0.013365</td>\n",
       "    </tr>\n",
       "    <tr>\n",
       "      <th>3</th>\n",
       "      <td>1</td>\n",
       "      <td>0</td>\n",
       "      <td>0</td>\n",
       "      <td>0</td>\n",
       "      <td>1</td>\n",
       "      <td>0</td>\n",
       "      <td>0</td>\n",
       "      <td>0</td>\n",
       "      <td>0</td>\n",
       "      <td>0</td>\n",
       "      <td>...</td>\n",
       "      <td>30000.0</td>\n",
       "      <td>900000000.0</td>\n",
       "      <td>2.0</td>\n",
       "      <td>0.0</td>\n",
       "      <td>1000.757500</td>\n",
       "      <td>0.400303</td>\n",
       "      <td>0.0</td>\n",
       "      <td>1</td>\n",
       "      <td>0</td>\n",
       "      <td>0.013828</td>\n",
       "    </tr>\n",
       "    <tr>\n",
       "      <th>4</th>\n",
       "      <td>0</td>\n",
       "      <td>1</td>\n",
       "      <td>0</td>\n",
       "      <td>0</td>\n",
       "      <td>1</td>\n",
       "      <td>0</td>\n",
       "      <td>0</td>\n",
       "      <td>0</td>\n",
       "      <td>0</td>\n",
       "      <td>0</td>\n",
       "      <td>...</td>\n",
       "      <td>30000.0</td>\n",
       "      <td>900000000.0</td>\n",
       "      <td>1.0</td>\n",
       "      <td>0.0</td>\n",
       "      <td>2122.900000</td>\n",
       "      <td>0.707633</td>\n",
       "      <td>0.0</td>\n",
       "      <td>0</td>\n",
       "      <td>0</td>\n",
       "      <td>0.030191</td>\n",
       "    </tr>\n",
       "  </tbody>\n",
       "</table>\n",
       "<p>5 rows × 68 columns</p>\n",
       "</div>"
      ],
      "text/plain": [
       "   sex_F  sex_M  marital_CIV  marital_DIV  marital_MAR  marital_UNM  \\\n",
       "0      0      1            0            0            1            0   \n",
       "1      1      0            0            0            1            0   \n",
       "2      0      1            0            0            1            0   \n",
       "3      1      0            0            0            1            0   \n",
       "4      0      1            0            0            1            0   \n",
       "\n",
       "   marital_WID  job_ATP  job_BIS  job_BIU  ...  monthly_income  \\\n",
       "0            0        0        0        0  ...         30000.0   \n",
       "1            0        0        0        0  ...         30000.0   \n",
       "2            0        0        0        0  ...         30000.0   \n",
       "3            0        0        0        0  ...         30000.0   \n",
       "4            0        0        0        0  ...         30000.0   \n",
       "\n",
       "   monthly_income_sq  credit_count  overdue_credit_count  monthly_payment  \\\n",
       "0        900000000.0           1.0                   1.0      5999.800000   \n",
       "1        900000000.0           2.0                   0.0      1814.833333   \n",
       "2        900000000.0           5.0                   0.0       894.000000   \n",
       "3        900000000.0           2.0                   0.0      1000.757500   \n",
       "4        900000000.0           1.0                   0.0      2122.900000   \n",
       "\n",
       "   credit_income_ratio  overdue_ratio  credit_kopeyka  credit_divide10000  \\\n",
       "0             1.999933            1.0               0                   0   \n",
       "1             0.362967            0.0               0                   0   \n",
       "2             0.357600            0.0               0                   0   \n",
       "3             0.400303            0.0               1                   0   \n",
       "4             0.707633            0.0               0                   0   \n",
       "\n",
       "   reg_freq_fed_freq  \n",
       "0           0.048932  \n",
       "1           0.130574  \n",
       "2           0.013365  \n",
       "3           0.013828  \n",
       "4           0.030191  \n",
       "\n",
       "[5 rows x 68 columns]"
      ]
     },
     "execution_count": 28,
     "metadata": {},
     "output_type": "execute_result"
    }
   ],
   "source": [
    "data_dummies.head()"
   ]
  },
  {
   "cell_type": "code",
   "execution_count": 29,
   "metadata": {},
   "outputs": [],
   "source": [
    "y = data['open_account_flg']"
   ]
  },
  {
   "cell_type": "code",
   "execution_count": 30,
   "metadata": {},
   "outputs": [],
   "source": [
    "from sklearn import preprocessing\n",
    "scaler = preprocessing.StandardScaler()\n",
    "final_data = scaler.fit_transform(data_dummies)\n"
   ]
  },
  {
   "cell_type": "code",
   "execution_count": 35,
   "metadata": {},
   "outputs": [],
   "source": [
    "X_train = pd.DataFrame(final_data, columns=data_dummies.columns).sample(frac=0.7, random_state=200)\n",
    "X_test = pd.DataFrame(final_data, columns=data_dummies.columns).drop(train.index)"
   ]
  },
  {
   "cell_type": "code",
   "execution_count": null,
   "metadata": {},
   "outputs": [],
   "source": [
    "#X_train = pd.DataFrame(final_data, columns=data_dummies.columns)\n",
    "#X_test = pd.DataFrame(final_data, columns=data_dummies.columns)"
   ]
  },
  {
   "cell_type": "code",
   "execution_count": 36,
   "metadata": {},
   "outputs": [
    {
     "data": {
      "text/html": [
       "<div>\n",
       "<style scoped>\n",
       "    .dataframe tbody tr th:only-of-type {\n",
       "        vertical-align: middle;\n",
       "    }\n",
       "\n",
       "    .dataframe tbody tr th {\n",
       "        vertical-align: top;\n",
       "    }\n",
       "\n",
       "    .dataframe thead th {\n",
       "        text-align: right;\n",
       "    }\n",
       "</style>\n",
       "<table border=\"1\" class=\"dataframe\">\n",
       "  <thead>\n",
       "    <tr style=\"text-align: right;\">\n",
       "      <th></th>\n",
       "      <th>sex_F</th>\n",
       "      <th>sex_M</th>\n",
       "      <th>marital_CIV</th>\n",
       "      <th>marital_DIV</th>\n",
       "      <th>marital_MAR</th>\n",
       "      <th>marital_UNM</th>\n",
       "      <th>marital_WID</th>\n",
       "      <th>job_ATP</th>\n",
       "      <th>job_BIS</th>\n",
       "      <th>job_BIU</th>\n",
       "      <th>...</th>\n",
       "      <th>monthly_income</th>\n",
       "      <th>monthly_income_sq</th>\n",
       "      <th>credit_count</th>\n",
       "      <th>overdue_credit_count</th>\n",
       "      <th>monthly_payment</th>\n",
       "      <th>credit_income_ratio</th>\n",
       "      <th>overdue_ratio</th>\n",
       "      <th>credit_kopeyka</th>\n",
       "      <th>credit_divide10000</th>\n",
       "      <th>reg_freq_fed_freq</th>\n",
       "    </tr>\n",
       "  </thead>\n",
       "  <tbody>\n",
       "    <tr>\n",
       "      <th>53397</th>\n",
       "      <td>-1.039723</td>\n",
       "      <td>1.039723</td>\n",
       "      <td>-0.158725</td>\n",
       "      <td>-0.332187</td>\n",
       "      <td>-1.106153</td>\n",
       "      <td>1.508043</td>\n",
       "      <td>-0.144134</td>\n",
       "      <td>-0.128909</td>\n",
       "      <td>-0.183992</td>\n",
       "      <td>-0.027175</td>\n",
       "      <td>...</td>\n",
       "      <td>-0.165241</td>\n",
       "      <td>-0.132248</td>\n",
       "      <td>0.032513</td>\n",
       "      <td>0.03342</td>\n",
       "      <td>0.571975</td>\n",
       "      <td>0.396533</td>\n",
       "      <td>-0.293918</td>\n",
       "      <td>-0.348271</td>\n",
       "      <td>-0.058734</td>\n",
       "      <td>-0.834166</td>\n",
       "    </tr>\n",
       "    <tr>\n",
       "      <th>143962</th>\n",
       "      <td>-1.039723</td>\n",
       "      <td>1.039723</td>\n",
       "      <td>-0.158725</td>\n",
       "      <td>-0.332187</td>\n",
       "      <td>-1.106153</td>\n",
       "      <td>1.508043</td>\n",
       "      <td>-0.144134</td>\n",
       "      <td>-0.128909</td>\n",
       "      <td>-0.183992</td>\n",
       "      <td>-0.027175</td>\n",
       "      <td>...</td>\n",
       "      <td>0.194126</td>\n",
       "      <td>-0.029934</td>\n",
       "      <td>0.032513</td>\n",
       "      <td>0.03342</td>\n",
       "      <td>-0.071741</td>\n",
       "      <td>-0.480263</td>\n",
       "      <td>-0.293918</td>\n",
       "      <td>-0.348271</td>\n",
       "      <td>-0.058734</td>\n",
       "      <td>-0.282661</td>\n",
       "    </tr>\n",
       "    <tr>\n",
       "      <th>146922</th>\n",
       "      <td>0.961794</td>\n",
       "      <td>-0.961794</td>\n",
       "      <td>-0.158725</td>\n",
       "      <td>-0.332187</td>\n",
       "      <td>0.904034</td>\n",
       "      <td>-0.663111</td>\n",
       "      <td>-0.144134</td>\n",
       "      <td>-0.128909</td>\n",
       "      <td>-0.183992</td>\n",
       "      <td>-0.027175</td>\n",
       "      <td>...</td>\n",
       "      <td>0.393775</td>\n",
       "      <td>0.036731</td>\n",
       "      <td>2.176379</td>\n",
       "      <td>0.03342</td>\n",
       "      <td>-0.509611</td>\n",
       "      <td>0.112412</td>\n",
       "      <td>-0.293918</td>\n",
       "      <td>-0.348271</td>\n",
       "      <td>-0.058734</td>\n",
       "      <td>-0.325006</td>\n",
       "    </tr>\n",
       "    <tr>\n",
       "      <th>63697</th>\n",
       "      <td>0.961794</td>\n",
       "      <td>-0.961794</td>\n",
       "      <td>-0.158725</td>\n",
       "      <td>-0.332187</td>\n",
       "      <td>-1.106153</td>\n",
       "      <td>1.508043</td>\n",
       "      <td>-0.144134</td>\n",
       "      <td>-0.128909</td>\n",
       "      <td>-0.183992</td>\n",
       "      <td>-0.027175</td>\n",
       "      <td>...</td>\n",
       "      <td>-0.205171</td>\n",
       "      <td>-0.142213</td>\n",
       "      <td>1.104446</td>\n",
       "      <td>0.03342</td>\n",
       "      <td>-1.203059</td>\n",
       "      <td>-1.383706</td>\n",
       "      <td>-0.293918</td>\n",
       "      <td>-0.348271</td>\n",
       "      <td>-0.058734</td>\n",
       "      <td>-0.888818</td>\n",
       "    </tr>\n",
       "    <tr>\n",
       "      <th>54503</th>\n",
       "      <td>-1.039723</td>\n",
       "      <td>1.039723</td>\n",
       "      <td>-0.158725</td>\n",
       "      <td>-0.332187</td>\n",
       "      <td>0.904034</td>\n",
       "      <td>-0.663111</td>\n",
       "      <td>-0.144134</td>\n",
       "      <td>-0.128909</td>\n",
       "      <td>5.435020</td>\n",
       "      <td>-0.027175</td>\n",
       "      <td>...</td>\n",
       "      <td>0.393775</td>\n",
       "      <td>0.036731</td>\n",
       "      <td>0.032513</td>\n",
       "      <td>0.03342</td>\n",
       "      <td>0.749655</td>\n",
       "      <td>-0.042823</td>\n",
       "      <td>-0.293918</td>\n",
       "      <td>-0.348271</td>\n",
       "      <td>-0.058734</td>\n",
       "      <td>-0.203833</td>\n",
       "    </tr>\n",
       "  </tbody>\n",
       "</table>\n",
       "<p>5 rows × 68 columns</p>\n",
       "</div>"
      ],
      "text/plain": [
       "           sex_F     sex_M  marital_CIV  marital_DIV  marital_MAR  \\\n",
       "53397  -1.039723  1.039723    -0.158725    -0.332187    -1.106153   \n",
       "143962 -1.039723  1.039723    -0.158725    -0.332187    -1.106153   \n",
       "146922  0.961794 -0.961794    -0.158725    -0.332187     0.904034   \n",
       "63697   0.961794 -0.961794    -0.158725    -0.332187    -1.106153   \n",
       "54503  -1.039723  1.039723    -0.158725    -0.332187     0.904034   \n",
       "\n",
       "        marital_UNM  marital_WID   job_ATP   job_BIS   job_BIU  ...  \\\n",
       "53397      1.508043    -0.144134 -0.128909 -0.183992 -0.027175  ...   \n",
       "143962     1.508043    -0.144134 -0.128909 -0.183992 -0.027175  ...   \n",
       "146922    -0.663111    -0.144134 -0.128909 -0.183992 -0.027175  ...   \n",
       "63697      1.508043    -0.144134 -0.128909 -0.183992 -0.027175  ...   \n",
       "54503     -0.663111    -0.144134 -0.128909  5.435020 -0.027175  ...   \n",
       "\n",
       "        monthly_income  monthly_income_sq  credit_count  overdue_credit_count  \\\n",
       "53397        -0.165241          -0.132248      0.032513               0.03342   \n",
       "143962        0.194126          -0.029934      0.032513               0.03342   \n",
       "146922        0.393775           0.036731      2.176379               0.03342   \n",
       "63697        -0.205171          -0.142213      1.104446               0.03342   \n",
       "54503         0.393775           0.036731      0.032513               0.03342   \n",
       "\n",
       "        monthly_payment  credit_income_ratio  overdue_ratio  credit_kopeyka  \\\n",
       "53397          0.571975             0.396533      -0.293918       -0.348271   \n",
       "143962        -0.071741            -0.480263      -0.293918       -0.348271   \n",
       "146922        -0.509611             0.112412      -0.293918       -0.348271   \n",
       "63697         -1.203059            -1.383706      -0.293918       -0.348271   \n",
       "54503          0.749655            -0.042823      -0.293918       -0.348271   \n",
       "\n",
       "        credit_divide10000  reg_freq_fed_freq  \n",
       "53397            -0.058734          -0.834166  \n",
       "143962           -0.058734          -0.282661  \n",
       "146922           -0.058734          -0.325006  \n",
       "63697            -0.058734          -0.888818  \n",
       "54503            -0.058734          -0.203833  \n",
       "\n",
       "[5 rows x 68 columns]"
      ]
     },
     "execution_count": 36,
     "metadata": {},
     "output_type": "execute_result"
    }
   ],
   "source": [
    "X_train.head()"
   ]
  },
  {
   "cell_type": "code",
   "execution_count": 37,
   "metadata": {},
   "outputs": [],
   "source": [
    "from sklearn.decomposition import PCA"
   ]
  },
  {
   "cell_type": "code",
   "execution_count": 38,
   "metadata": {},
   "outputs": [
    {
     "data": {
      "text/plain": [
       "array([[-1.0397234 ,  1.0397234 , -0.15872503, ..., -0.34827132,\n",
       "        -0.05873427,  0.26503382],\n",
       "       [ 0.96179426, -0.96179426, -0.15872503, ..., -0.34827132,\n",
       "        -0.05873427,  2.30753444],\n",
       "       [-1.0397234 ,  1.0397234 , -0.15872503, ..., -0.34827132,\n",
       "        -0.05873427, -0.62478729],\n",
       "       ...,\n",
       "       [ 0.96179426, -0.96179426, -0.15872503, ...,  2.87132454,\n",
       "        -0.05873427, -0.76954988],\n",
       "       [ 0.96179426, -0.96179426, -0.15872503, ..., -0.34827132,\n",
       "        -0.05873427, -0.82508128],\n",
       "       [-1.0397234 ,  1.0397234 , -0.15872503, ..., -0.34827132,\n",
       "        -0.05873427,  2.30753444]])"
      ]
     },
     "execution_count": 38,
     "metadata": {},
     "output_type": "execute_result"
    }
   ],
   "source": [
    "final_data"
   ]
  },
  {
   "cell_type": "code",
   "execution_count": 39,
   "metadata": {},
   "outputs": [],
   "source": [
    "x = final_data"
   ]
  },
  {
   "cell_type": "code",
   "execution_count": 40,
   "metadata": {},
   "outputs": [],
   "source": [
    "model = PCA()\n",
    "results = model.fit(x)"
   ]
  },
  {
   "cell_type": "code",
   "execution_count": 41,
   "metadata": {},
   "outputs": [],
   "source": [
    "\n",
    "Z = results.transform(x)"
   ]
  },
  {
   "cell_type": "code",
   "execution_count": 42,
   "metadata": {},
   "outputs": [],
   "source": [
    "Z = results.transform(x) # результат преобразуется в массив для использования вновь созданных данных"
   ]
  },
  {
   "cell_type": "code",
   "execution_count": 43,
   "metadata": {},
   "outputs": [
    {
     "data": {
      "image/png": "[encoded data removed]",
      "text/plain": [
       "<Figure size 432x288 with 1 Axes>"
      ]
     },
     "metadata": {
      "needs_background": "light"
     },
     "output_type": "display_data"
    }
   ],
   "source": [
    "plt.plot(results.explained_variance_)#график каменистой осыпи\n",
    "plt.grid()\n",
    "plt.show()"
   ]
  },
  {
   "cell_type": "code",
   "execution_count": 44,
   "metadata": {},
   "outputs": [],
   "source": [
    "from sklearn.cluster import KMeans,AgglomerativeClustering"
   ]
  },
  {
   "cell_type": "code",
   "execution_count": 45,
   "metadata": {},
   "outputs": [],
   "source": [
    "model = AgglomerativeClustering(n_clusters=10)"
   ]
  },
  {
   "cell_type": "code",
   "execution_count": 65,
   "metadata": {},
   "outputs": [],
   "source": [
    "X = model.fit_predict(X_train.iloc[:500, :10])"
   ]
  },
  {
   "cell_type": "code",
   "execution_count": 66,
   "metadata": {},
   "outputs": [],
   "source": [
    "from sklearn import metrics\n",
    "from sklearn.metrics import silhouette_score"
   ]
  },
  {
   "cell_type": "code",
   "execution_count": 74,
   "metadata": {},
   "outputs": [],
   "source": [
    "Sil1 = np.zeros((1,25))\n",
    "for k in list(range(25))[2:25]:\n",
    "    Sil1[0][k] = metrics.silhouette_score(X_train.iloc[:500, :10], AgglomerativeClustering(n_clusters=k).fit_predict(X_train.iloc[:500, :10]), metric='euclidean')  "
   ]
  },
  {
   "cell_type": "code",
   "execution_count": 70,
   "metadata": {},
   "outputs": [
    {
     "data": {
      "text/plain": [
       "array([[0.        , 0.        , 0.90380666, 0.38946452, 0.45840285,\n",
       "        0.49963883, 0.64893033, 0.74240397, 0.77099955, 0.79378743,\n",
       "        0.93866557, 0.97157342, 0.97593862, 0.97686681, 0.97839211,\n",
       "        0.98308222, 0.98647294, 0.99183594, 0.9913739 , 0.992     ,\n",
       "        0.972     ]])"
      ]
     },
     "execution_count": 70,
     "metadata": {},
     "output_type": "execute_result"
    }
   ],
   "source": [
    "Sil1"
   ]
  },
  {
   "cell_type": "code",
   "execution_count": null,
   "metadata": {},
   "outputs": [],
   "source": []
  },
  {
   "cell_type": "code",
   "execution_count": null,
   "metadata": {},
   "outputs": [],
   "source": []
  },
  {
   "cell_type": "code",
   "execution_count": 71,
   "metadata": {},
   "outputs": [],
   "source": [
    "model_Kmeans = KMeans(n_clusters = 10,n_init = 2000)"
   ]
  },
  {
   "cell_type": "code",
   "execution_count": 72,
   "metadata": {},
   "outputs": [],
   "source": [
    "X_KMeans = model_Kmeans.fit_predict(X_train.iloc[:500, :10])"
   ]
  },
  {
   "cell_type": "code",
   "execution_count": null,
   "metadata": {},
   "outputs": [],
   "source": [
    "Sil2 = np.zeros((1,30))\n",
    "for k in list(range(30))[2:30]:\n",
    "    Sil2[0][k] = metrics.silhouette_score(X_train.iloc[:500, :10], KMeans(n_clusters = k,n_init = 200).fit_predict(X_train.iloc[:500, :10]), metric='euclidean') \n",
    "print(Sil2)"
   ]
  },
  {
   "cell_type": "code",
   "execution_count": null,
   "metadata": {},
   "outputs": [],
   "source": []
  }
 ],
 "metadata": {
  "kernelspec": {
   "display_name": "Python 3",
   "language": "python",
   "name": "python3"
  },
  "language_info": {
   "codemirror_mode": {
    "name": "ipython",
    "version": 3
   },
   "file_extension": ".py",
   "mimetype": "text/x-python",
   "name": "python",
   "nbconvert_exporter": "python",
   "pygments_lexer": "ipython3",
   "version": "3.8.3"
  }
 },
 "nbformat": 4,
 "nbformat_minor": 4
}
