{
  "nbformat": 4,
  "nbformat_minor": 0,
  "metadata": {
    "colab": {
      "name": "Untitled0.ipynb",
      "provenance": [],
      "collapsed_sections": []
    },
    "kernelspec": {
      "name": "python3",
      "display_name": "Python 3"
    }
  },
  "cells": [
    {
      "cell_type": "code",
      "metadata": {
        "id": "AAievM30uY6S",
        "colab_type": "code",
        "colab": {
          "base_uri": "https://localhost:8080/",
          "height": 50
        },
        "outputId": "6db94327-fe24-41a6-fb3e-89b6497ba074"
      },
      "source": [
        "from sympy import Symbol, symbols, diff\n",
        "import numpy as np\n",
        "import random\n",
        "import math\n",
        "from math import e, pi, log, sin, cos\n",
        "\n",
        "\n",
        "def determ_amount_var():\n",
        "  \"\"\" Функция.\n",
        "  \n",
        "  возвращает количество пременных во введённой функции\n",
        "  \"\"\"\n",
        "  global function\n",
        "  function = input('Введите функцию:F(): ')\n",
        "  dct = {}\n",
        "  fun = ''\n",
        "  list_of_var = []\n",
        "  for char in function: # убираем e, т.к. знаем, что это не переменная\n",
        "    if char.isalpha():\n",
        "      fun = fun + char # формируем строку с вероятными синволами\n",
        "    fun = fun.replace('log', '').replace('cos', '').replace('sin', '').\\\n",
        "    replace('e', '').replace('pi', '')#убираем разного рода функции и константы\n",
        "  for char in fun:\n",
        "    dct[char] = dct.get(char, 0) + 1 # делаем словарь с ключами, чтобы получить только уникальные ключи\n",
        "  for char in dct.keys():\n",
        "    list_of_var.append(Symbol(char))  # формируем список символов\n",
        "  return tuple(list_of_var)\n",
        "\n",
        "\n",
        "variables = determ_amount_var()\n",
        "print('Внесите в аргументы искомой функции f{0}'.format(variables)) # просим человека внести аргументы функции\n",
        "#  костыль, который не получилось преодолеть ни классом, ни декоратором\n",
        "# x ** 2 + y ** 3 + z ** 4\n",
        "# x ** 2 - y ** 3\n",
        "# 10 * x ** 2 + y ** 2\n",
        "# sin(x) - cos(y) * 1 / z\n",
        "# e ** x - y / cos(z) + t * pi вы можете использовать произвольную функцию, но надо будет внести аргументы\n"
      ],
      "execution_count": 20,
      "outputs": [
        {
          "output_type": "stream",
          "text": [
            "Введите функцию:F(): e ** x - y / cos(z) + t * pi\n",
            "Внесите в аргументы искомой функции f(x, y, z, t)\n"
          ],
          "name": "stdout"
        }
      ]
    },
    {
      "cell_type": "code",
      "metadata": {
        "id": "YIcB9_5ONxdL",
        "colab_type": "code",
        "colab": {}
      },
      "source": [
        "def f(# аргументы из функции выше):\n",
        "    return eval(function)"
      ],
      "execution_count": 21,
      "outputs": []
    },
    {
      "cell_type": "code",
      "metadata": {
        "id": "SOIn1XdSx-tg",
        "colab_type": "code",
        "colab": {
          "base_uri": "https://localhost:8080/",
          "height": 34
        },
        "outputId": "22e58e2c-0fca-4850-b338-e2552267eedf"
      },
      "source": [
        "def derivative(h = .0001):\n",
        "\n",
        "    \"\"\" в функции реализован подсчёт производной численным методом\"\"\"\n",
        "    \n",
        "    lst = []\n",
        "    for i in range(len(variables)): # задача данного цикла попеременно добавлять к значениям h\n",
        "        lst_of_values  =  [2 for i in range(len(variables))]\n",
        "        lst_of_values[i] = lst_of_values[i] + h \n",
        "        lst.append(f(*lst_of_values)) # получили массив из значений функций при значении x = x + h\n",
        "    lst_of_values  =  [2 for i in range(len(variables))]\n",
        "    return  (np.array(lst) - np.array([f(*lst_of_values)] * len(lst_of_values))) / h\n"
      ],
      "execution_count": 22,
      "outputs": [
        {
          "output_type": "stream",
          "text": [
            "[  7.38942556   2.40299796 -10.49875839   3.14159265]\n"
          ],
          "name": "stdout"
        }
      ]
    },
    {
      "cell_type": "code",
      "metadata": {
        "id": "OI7uFvBFytii",
        "colab_type": "code",
        "colab": {}
      },
      "source": [
        "def gradient_desc(lambda_ = .001):\n",
        "\n",
        "    \"\"\" в данной функции реализован градиентный спуск \"\"\"\n",
        "    \n",
        "    init_values = np.array([5] * len(variables)) # инициализируем \"старт\" откуда начнётся спуск\n",
        "    # следует отметить, что выбор начала должен происходить под контролем человека, который считает, т.к. если наш обучающий коэф. \n",
        "    # очень низкий, или у нас высокостепенная функция, чтобы избежать ненужной траты ресурса, нужно подставлять разные числа\n",
        "    values = init_values - (lambda_ * derivative())\n",
        "    for iter in range(1000):\n",
        "        values = values - (lambda_ * derivative())\n",
        "    return  values\n"
      ],
      "execution_count": 24,
      "outputs": []
    },
    {
      "cell_type": "code",
      "metadata": {
        "id": "KMlE_Omjrujf",
        "colab_type": "code",
        "colab": {
          "base_uri": "https://localhost:8080/",
          "height": 34
        },
        "outputId": "5989c38a-121f-4bf1-abab-51d78ef62a38"
      },
      "source": [
        "print(gradient_desc())"
      ],
      "execution_count": 29,
      "outputs": [
        {
          "output_type": "stream",
          "text": [
            "[-2.39681499  2.59459904 15.50925715  1.85526575]\n"
          ],
          "name": "stdout"
        }
      ]
    },
    {
      "cell_type": "code",
      "metadata": {
        "id": "nBxpElIjpX27",
        "colab_type": "code",
        "colab": {}
      },
      "source": [
        "min_values = gradient_desc() # присваиваем значения, которые получились про градиентном спуске"
      ],
      "execution_count": 30,
      "outputs": []
    },
    {
      "cell_type": "code",
      "metadata": {
        "id": "z0B1_-zhpmsv",
        "colab_type": "code",
        "colab": {
          "base_uri": "https://localhost:8080/",
          "height": 34
        },
        "outputId": "462af86e-80b5-4c49-b347-34b8ce16348f"
      },
      "source": [
        "print(f(*min_values)) # т.е. я в ручную не проверял правильность, т.к. в конкрентном случае нужно подбирать конкретные значения"
      ],
      "execution_count": 32,
      "outputs": [
        {
          "output_type": "stream",
          "text": [
            "8.566174839898384\n"
          ],
          "name": "stdout"
        }
      ]
    }
  ]
}
