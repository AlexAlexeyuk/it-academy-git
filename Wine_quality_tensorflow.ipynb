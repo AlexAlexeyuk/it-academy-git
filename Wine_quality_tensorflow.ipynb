{
  "nbformat": 4,
  "nbformat_minor": 0,
  "metadata": {
    "colab": {
      "name": "Untitled18.ipynb",
      "provenance": []
    },
    "kernelspec": {
      "name": "python3",
      "display_name": "Python 3"
    }
  },
  "cells": [
    {
      "cell_type": "code",
      "metadata": {
        "id": "e7snnj6qPVm0"
      },
      "source": [
        "import pandas as pd\n",
        "import numpy as np\n"
      ],
      "execution_count": 1,
      "outputs": []
    },
    {
      "cell_type": "code",
      "metadata": {
        "id": "QKtmo7sLPVqD",
        "outputId": "f891a24c-e86c-4e00-8114-754e53427f69",
        "colab": {
          "base_uri": "https://localhost:8080/",
          "height": 238
        }
      },
      "source": [
        "wine = pd.read_csv('/winequality-white.xls', sep=';')\n",
        "wine.head()"
      ],
      "execution_count": 10,
      "outputs": [
        {
          "output_type": "execute_result",
          "data": {
            "text/html": [
              "<div>\n",
              "<style scoped>\n",
              "    .dataframe tbody tr th:only-of-type {\n",
              "        vertical-align: middle;\n",
              "    }\n",
              "\n",
              "    .dataframe tbody tr th {\n",
              "        vertical-align: top;\n",
              "    }\n",
              "\n",
              "    .dataframe thead th {\n",
              "        text-align: right;\n",
              "    }\n",
              "</style>\n",
              "<table border=\"1\" class=\"dataframe\">\n",
              "  <thead>\n",
              "    <tr style=\"text-align: right;\">\n",
              "      <th></th>\n",
              "      <th>fixed acidity</th>\n",
              "      <th>volatile acidity</th>\n",
              "      <th>citric acid</th>\n",
              "      <th>residual sugar</th>\n",
              "      <th>chlorides</th>\n",
              "      <th>free sulfur dioxide</th>\n",
              "      <th>total sulfur dioxide</th>\n",
              "      <th>density</th>\n",
              "      <th>pH</th>\n",
              "      <th>sulphates</th>\n",
              "      <th>alcohol</th>\n",
              "      <th>quality</th>\n",
              "    </tr>\n",
              "  </thead>\n",
              "  <tbody>\n",
              "    <tr>\n",
              "      <th>0</th>\n",
              "      <td>7.0</td>\n",
              "      <td>0.27</td>\n",
              "      <td>0.36</td>\n",
              "      <td>20.7</td>\n",
              "      <td>0.045</td>\n",
              "      <td>45.0</td>\n",
              "      <td>170.0</td>\n",
              "      <td>1.0010</td>\n",
              "      <td>3.00</td>\n",
              "      <td>0.45</td>\n",
              "      <td>8.8</td>\n",
              "      <td>6</td>\n",
              "    </tr>\n",
              "    <tr>\n",
              "      <th>1</th>\n",
              "      <td>6.3</td>\n",
              "      <td>0.30</td>\n",
              "      <td>0.34</td>\n",
              "      <td>1.6</td>\n",
              "      <td>0.049</td>\n",
              "      <td>14.0</td>\n",
              "      <td>132.0</td>\n",
              "      <td>0.9940</td>\n",
              "      <td>3.30</td>\n",
              "      <td>0.49</td>\n",
              "      <td>9.5</td>\n",
              "      <td>6</td>\n",
              "    </tr>\n",
              "    <tr>\n",
              "      <th>2</th>\n",
              "      <td>8.1</td>\n",
              "      <td>0.28</td>\n",
              "      <td>0.40</td>\n",
              "      <td>6.9</td>\n",
              "      <td>0.050</td>\n",
              "      <td>30.0</td>\n",
              "      <td>97.0</td>\n",
              "      <td>0.9951</td>\n",
              "      <td>3.26</td>\n",
              "      <td>0.44</td>\n",
              "      <td>10.1</td>\n",
              "      <td>6</td>\n",
              "    </tr>\n",
              "    <tr>\n",
              "      <th>3</th>\n",
              "      <td>7.2</td>\n",
              "      <td>0.23</td>\n",
              "      <td>0.32</td>\n",
              "      <td>8.5</td>\n",
              "      <td>0.058</td>\n",
              "      <td>47.0</td>\n",
              "      <td>186.0</td>\n",
              "      <td>0.9956</td>\n",
              "      <td>3.19</td>\n",
              "      <td>0.40</td>\n",
              "      <td>9.9</td>\n",
              "      <td>6</td>\n",
              "    </tr>\n",
              "    <tr>\n",
              "      <th>4</th>\n",
              "      <td>7.2</td>\n",
              "      <td>0.23</td>\n",
              "      <td>0.32</td>\n",
              "      <td>8.5</td>\n",
              "      <td>0.058</td>\n",
              "      <td>47.0</td>\n",
              "      <td>186.0</td>\n",
              "      <td>0.9956</td>\n",
              "      <td>3.19</td>\n",
              "      <td>0.40</td>\n",
              "      <td>9.9</td>\n",
              "      <td>6</td>\n",
              "    </tr>\n",
              "  </tbody>\n",
              "</table>\n",
              "</div>"
            ],
            "text/plain": [
              "   fixed acidity  volatile acidity  citric acid  ...  sulphates  alcohol  quality\n",
              "0            7.0              0.27         0.36  ...       0.45      8.8        6\n",
              "1            6.3              0.30         0.34  ...       0.49      9.5        6\n",
              "2            8.1              0.28         0.40  ...       0.44     10.1        6\n",
              "3            7.2              0.23         0.32  ...       0.40      9.9        6\n",
              "4            7.2              0.23         0.32  ...       0.40      9.9        6\n",
              "\n",
              "[5 rows x 12 columns]"
            ]
          },
          "metadata": {
            "tags": []
          },
          "execution_count": 10
        }
      ]
    },
    {
      "cell_type": "code",
      "metadata": {
        "id": "e7P3fSczPij1"
      },
      "source": [
        "import matplotlib.pyplot as plt\n",
        "import seaborn as sns\n",
        "import plotly.express as px\n",
        "\n",
        "from sklearn.model_selection import train_test_split\n",
        "from sklearn.preprocessing import StandardScaler,MinMaxScaler\n",
        "from sklearn.datasets import load_wine\n",
        "\n",
        "\n",
        "import tensorflow as tf\n",
        "from tensorflow import keras\n",
        "from tensorflow.keras import layers"
      ],
      "execution_count": 4,
      "outputs": []
    },
    {
      "cell_type": "code",
      "metadata": {
        "id": "i_n9GFmyPih6"
      },
      "source": [
        "X = wine.drop('quality', axis=1)\n",
        "y = wine['quality']"
      ],
      "execution_count": 11,
      "outputs": []
    },
    {
      "cell_type": "code",
      "metadata": {
        "id": "fyLLeRnBPifd"
      },
      "source": [
        "\n",
        "X_train,X_test,y_train,y_test = train_test_split(X,y,test_size=0.2,random_state=0)"
      ],
      "execution_count": 12,
      "outputs": []
    },
    {
      "cell_type": "code",
      "metadata": {
        "id": "F-8pNPqTPidj"
      },
      "source": [
        "\n",
        "scaler =  MinMaxScaler()\n",
        "X_train=scaler.fit_transform(X_train)\n",
        "X_test=scaler.fit_transform(X_test)"
      ],
      "execution_count": 13,
      "outputs": []
    },
    {
      "cell_type": "code",
      "metadata": {
        "id": "Sa6Hab6MPicM"
      },
      "source": [
        "\n",
        "my_model = tf.keras.models.Sequential([\n",
        "  tf.keras.layers.Dense(56,activation='relu'),\n",
        "  tf.keras.layers.Dropout(0.30),\n",
        "  tf.keras.layers.Dense(56,activation='relu'),\n",
        "  tf.keras.layers.Dropout(0.20),\n",
        "  tf.keras.layers.Dense(15,activation='softmax'),\n",
        "])"
      ],
      "execution_count": 14,
      "outputs": []
    },
    {
      "cell_type": "code",
      "metadata": {
        "id": "a-nk4FIRPiac"
      },
      "source": [
        "optimiser = tf.keras.optimizers.Adam()\n",
        "my_model.compile (optimizer= optimiser, loss='sparse_categorical_crossentropy', metrics = ['accuracy'])"
      ],
      "execution_count": 15,
      "outputs": []
    },
    {
      "cell_type": "code",
      "metadata": {
        "id": "vDAzjHgqPiXq",
        "outputId": "eef15891-3c20-4ff4-e2c0-5c27b6f95370",
        "colab": {
          "base_uri": "https://localhost:8080/",
          "height": 34
        }
      },
      "source": [
        "\n",
        "X_train.shape"
      ],
      "execution_count": 16,
      "outputs": [
        {
          "output_type": "execute_result",
          "data": {
            "text/plain": [
              "(3918, 11)"
            ]
          },
          "metadata": {
            "tags": []
          },
          "execution_count": 16
        }
      ]
    },
    {
      "cell_type": "code",
      "metadata": {
        "id": "IuiqoU3jReCS",
        "outputId": "6702d9b8-f624-4845-8604-956695d99e47",
        "colab": {
          "base_uri": "https://localhost:8080/",
          "height": 1000
        }
      },
      "source": [
        "\n",
        "history = my_model.fit(X_train, y_train,validation_split=0.20, epochs=100, batch_size=12)"
      ],
      "execution_count": 17,
      "outputs": [
        {
          "output_type": "stream",
          "text": [
            "Epoch 1/100\n",
            "262/262 [==============================] - 1s 2ms/step - loss: 1.4976 - accuracy: 0.4400 - val_loss: 1.1829 - val_accuracy: 0.5077\n",
            "Epoch 2/100\n",
            "262/262 [==============================] - 0s 1ms/step - loss: 1.2198 - accuracy: 0.4837 - val_loss: 1.1513 - val_accuracy: 0.5191\n",
            "Epoch 3/100\n",
            "262/262 [==============================] - 0s 1ms/step - loss: 1.1854 - accuracy: 0.4994 - val_loss: 1.1219 - val_accuracy: 0.5395\n",
            "Epoch 4/100\n",
            "262/262 [==============================] - 0s 2ms/step - loss: 1.1651 - accuracy: 0.5083 - val_loss: 1.1165 - val_accuracy: 0.5217\n",
            "Epoch 5/100\n",
            "262/262 [==============================] - 0s 1ms/step - loss: 1.1444 - accuracy: 0.5182 - val_loss: 1.1054 - val_accuracy: 0.5268\n",
            "Epoch 6/100\n",
            "262/262 [==============================] - 0s 1ms/step - loss: 1.1390 - accuracy: 0.5140 - val_loss: 1.0942 - val_accuracy: 0.5344\n",
            "Epoch 7/100\n",
            "262/262 [==============================] - 0s 1ms/step - loss: 1.1251 - accuracy: 0.5297 - val_loss: 1.0901 - val_accuracy: 0.5293\n",
            "Epoch 8/100\n",
            "262/262 [==============================] - 0s 2ms/step - loss: 1.1200 - accuracy: 0.5341 - val_loss: 1.0848 - val_accuracy: 0.5344\n",
            "Epoch 9/100\n",
            "262/262 [==============================] - 0s 2ms/step - loss: 1.1148 - accuracy: 0.5297 - val_loss: 1.0920 - val_accuracy: 0.5102\n",
            "Epoch 10/100\n",
            "262/262 [==============================] - 0s 1ms/step - loss: 1.1062 - accuracy: 0.5278 - val_loss: 1.0724 - val_accuracy: 0.5293\n",
            "Epoch 11/100\n",
            "262/262 [==============================] - 0s 1ms/step - loss: 1.1028 - accuracy: 0.5373 - val_loss: 1.0770 - val_accuracy: 0.5421\n",
            "Epoch 12/100\n",
            "262/262 [==============================] - 0s 1ms/step - loss: 1.0988 - accuracy: 0.5325 - val_loss: 1.0730 - val_accuracy: 0.5242\n",
            "Epoch 13/100\n",
            "262/262 [==============================] - 0s 2ms/step - loss: 1.0968 - accuracy: 0.5322 - val_loss: 1.0662 - val_accuracy: 0.5332\n",
            "Epoch 14/100\n",
            "262/262 [==============================] - 0s 1ms/step - loss: 1.0921 - accuracy: 0.5383 - val_loss: 1.0624 - val_accuracy: 0.5344\n",
            "Epoch 15/100\n",
            "262/262 [==============================] - 0s 1ms/step - loss: 1.0896 - accuracy: 0.5386 - val_loss: 1.0732 - val_accuracy: 0.5332\n",
            "Epoch 16/100\n",
            "262/262 [==============================] - 0s 1ms/step - loss: 1.0926 - accuracy: 0.5491 - val_loss: 1.0579 - val_accuracy: 0.5523\n",
            "Epoch 17/100\n",
            "262/262 [==============================] - 0s 2ms/step - loss: 1.0861 - accuracy: 0.5447 - val_loss: 1.0559 - val_accuracy: 0.5561\n",
            "Epoch 18/100\n",
            "262/262 [==============================] - 0s 1ms/step - loss: 1.0814 - accuracy: 0.5405 - val_loss: 1.0606 - val_accuracy: 0.5357\n",
            "Epoch 19/100\n",
            "262/262 [==============================] - 0s 1ms/step - loss: 1.0752 - accuracy: 0.5405 - val_loss: 1.0505 - val_accuracy: 0.5587\n",
            "Epoch 20/100\n",
            "262/262 [==============================] - 0s 1ms/step - loss: 1.0675 - accuracy: 0.5453 - val_loss: 1.0575 - val_accuracy: 0.5446\n",
            "Epoch 21/100\n",
            "262/262 [==============================] - 0s 1ms/step - loss: 1.0732 - accuracy: 0.5485 - val_loss: 1.0452 - val_accuracy: 0.5599\n",
            "Epoch 22/100\n",
            "262/262 [==============================] - 0s 1ms/step - loss: 1.0726 - accuracy: 0.5408 - val_loss: 1.0422 - val_accuracy: 0.5408\n",
            "Epoch 23/100\n",
            "262/262 [==============================] - 0s 1ms/step - loss: 1.0740 - accuracy: 0.5412 - val_loss: 1.0462 - val_accuracy: 0.5421\n",
            "Epoch 24/100\n",
            "262/262 [==============================] - 0s 2ms/step - loss: 1.0742 - accuracy: 0.5507 - val_loss: 1.0440 - val_accuracy: 0.5472\n",
            "Epoch 25/100\n",
            "262/262 [==============================] - 0s 1ms/step - loss: 1.0721 - accuracy: 0.5459 - val_loss: 1.0431 - val_accuracy: 0.5472\n",
            "Epoch 26/100\n",
            "262/262 [==============================] - 0s 1ms/step - loss: 1.0683 - accuracy: 0.5392 - val_loss: 1.0362 - val_accuracy: 0.5561\n",
            "Epoch 27/100\n",
            "262/262 [==============================] - 0s 1ms/step - loss: 1.0558 - accuracy: 0.5469 - val_loss: 1.0349 - val_accuracy: 0.5497\n",
            "Epoch 28/100\n",
            "262/262 [==============================] - 0s 1ms/step - loss: 1.0605 - accuracy: 0.5482 - val_loss: 1.0443 - val_accuracy: 0.5587\n",
            "Epoch 29/100\n",
            "262/262 [==============================] - 0s 1ms/step - loss: 1.0575 - accuracy: 0.5511 - val_loss: 1.0351 - val_accuracy: 0.5357\n",
            "Epoch 30/100\n",
            "262/262 [==============================] - 0s 1ms/step - loss: 1.0524 - accuracy: 0.5673 - val_loss: 1.0406 - val_accuracy: 0.5561\n",
            "Epoch 31/100\n",
            "262/262 [==============================] - 0s 1ms/step - loss: 1.0559 - accuracy: 0.5459 - val_loss: 1.0358 - val_accuracy: 0.5383\n",
            "Epoch 32/100\n",
            "262/262 [==============================] - 0s 1ms/step - loss: 1.0573 - accuracy: 0.5539 - val_loss: 1.0298 - val_accuracy: 0.5548\n",
            "Epoch 33/100\n",
            "262/262 [==============================] - 0s 1ms/step - loss: 1.0511 - accuracy: 0.5440 - val_loss: 1.0360 - val_accuracy: 0.5332\n",
            "Epoch 34/100\n",
            "262/262 [==============================] - 0s 1ms/step - loss: 1.0417 - accuracy: 0.5574 - val_loss: 1.0275 - val_accuracy: 0.5536\n",
            "Epoch 35/100\n",
            "262/262 [==============================] - 0s 1ms/step - loss: 1.0471 - accuracy: 0.5466 - val_loss: 1.0380 - val_accuracy: 0.5370\n",
            "Epoch 36/100\n",
            "262/262 [==============================] - 0s 1ms/step - loss: 1.0530 - accuracy: 0.5562 - val_loss: 1.0261 - val_accuracy: 0.5536\n",
            "Epoch 37/100\n",
            "262/262 [==============================] - 0s 2ms/step - loss: 1.0426 - accuracy: 0.5536 - val_loss: 1.0381 - val_accuracy: 0.5344\n",
            "Epoch 38/100\n",
            "262/262 [==============================] - 0s 1ms/step - loss: 1.0403 - accuracy: 0.5517 - val_loss: 1.0303 - val_accuracy: 0.5332\n",
            "Epoch 39/100\n",
            "262/262 [==============================] - 0s 1ms/step - loss: 1.0451 - accuracy: 0.5533 - val_loss: 1.0340 - val_accuracy: 0.5523\n",
            "Epoch 40/100\n",
            "262/262 [==============================] - 0s 1ms/step - loss: 1.0383 - accuracy: 0.5571 - val_loss: 1.0247 - val_accuracy: 0.5472\n",
            "Epoch 41/100\n",
            "262/262 [==============================] - 0s 2ms/step - loss: 1.0362 - accuracy: 0.5578 - val_loss: 1.0202 - val_accuracy: 0.5561\n",
            "Epoch 42/100\n",
            "262/262 [==============================] - 0s 2ms/step - loss: 1.0339 - accuracy: 0.5581 - val_loss: 1.0215 - val_accuracy: 0.5497\n",
            "Epoch 43/100\n",
            "262/262 [==============================] - 0s 1ms/step - loss: 1.0368 - accuracy: 0.5657 - val_loss: 1.0282 - val_accuracy: 0.5485\n",
            "Epoch 44/100\n",
            "262/262 [==============================] - 0s 2ms/step - loss: 1.0380 - accuracy: 0.5526 - val_loss: 1.0272 - val_accuracy: 0.5599\n",
            "Epoch 45/100\n",
            "262/262 [==============================] - 0s 1ms/step - loss: 1.0286 - accuracy: 0.5552 - val_loss: 1.0171 - val_accuracy: 0.5472\n",
            "Epoch 46/100\n",
            "262/262 [==============================] - 0s 1ms/step - loss: 1.0361 - accuracy: 0.5562 - val_loss: 1.0183 - val_accuracy: 0.5574\n",
            "Epoch 47/100\n",
            "262/262 [==============================] - 0s 1ms/step - loss: 1.0334 - accuracy: 0.5514 - val_loss: 1.0228 - val_accuracy: 0.5599\n",
            "Epoch 48/100\n",
            "262/262 [==============================] - 0s 1ms/step - loss: 1.0395 - accuracy: 0.5479 - val_loss: 1.0195 - val_accuracy: 0.5561\n",
            "Epoch 49/100\n",
            "262/262 [==============================] - 0s 1ms/step - loss: 1.0296 - accuracy: 0.5571 - val_loss: 1.0187 - val_accuracy: 0.5612\n",
            "Epoch 50/100\n",
            "262/262 [==============================] - 0s 1ms/step - loss: 1.0343 - accuracy: 0.5542 - val_loss: 1.0168 - val_accuracy: 0.5421\n",
            "Epoch 51/100\n",
            "262/262 [==============================] - 0s 1ms/step - loss: 1.0222 - accuracy: 0.5654 - val_loss: 1.0143 - val_accuracy: 0.5408\n",
            "Epoch 52/100\n",
            "262/262 [==============================] - 0s 1ms/step - loss: 1.0232 - accuracy: 0.5606 - val_loss: 1.0162 - val_accuracy: 0.5434\n",
            "Epoch 53/100\n",
            "262/262 [==============================] - 0s 1ms/step - loss: 1.0294 - accuracy: 0.5571 - val_loss: 1.0130 - val_accuracy: 0.5536\n",
            "Epoch 54/100\n",
            "262/262 [==============================] - 0s 1ms/step - loss: 1.0305 - accuracy: 0.5629 - val_loss: 1.0128 - val_accuracy: 0.5497\n",
            "Epoch 55/100\n",
            "262/262 [==============================] - 0s 1ms/step - loss: 1.0264 - accuracy: 0.5574 - val_loss: 1.0173 - val_accuracy: 0.5548\n",
            "Epoch 56/100\n",
            "262/262 [==============================] - 0s 1ms/step - loss: 1.0361 - accuracy: 0.5562 - val_loss: 1.0120 - val_accuracy: 0.5548\n",
            "Epoch 57/100\n",
            "262/262 [==============================] - 0s 1ms/step - loss: 1.0214 - accuracy: 0.5578 - val_loss: 1.0135 - val_accuracy: 0.5485\n",
            "Epoch 58/100\n",
            "262/262 [==============================] - 0s 1ms/step - loss: 1.0218 - accuracy: 0.5686 - val_loss: 1.0109 - val_accuracy: 0.5689\n",
            "Epoch 59/100\n",
            "262/262 [==============================] - 0s 2ms/step - loss: 1.0234 - accuracy: 0.5635 - val_loss: 1.0168 - val_accuracy: 0.5587\n",
            "Epoch 60/100\n",
            "262/262 [==============================] - 0s 1ms/step - loss: 1.0152 - accuracy: 0.5600 - val_loss: 1.0257 - val_accuracy: 0.5472\n",
            "Epoch 61/100\n",
            "262/262 [==============================] - 0s 1ms/step - loss: 1.0191 - accuracy: 0.5622 - val_loss: 1.0182 - val_accuracy: 0.5459\n",
            "Epoch 62/100\n",
            "262/262 [==============================] - 0s 2ms/step - loss: 1.0240 - accuracy: 0.5584 - val_loss: 1.0055 - val_accuracy: 0.5523\n",
            "Epoch 63/100\n",
            "262/262 [==============================] - 0s 1ms/step - loss: 1.0172 - accuracy: 0.5600 - val_loss: 1.0024 - val_accuracy: 0.5625\n",
            "Epoch 64/100\n",
            "262/262 [==============================] - 0s 1ms/step - loss: 1.0182 - accuracy: 0.5597 - val_loss: 1.0005 - val_accuracy: 0.5548\n",
            "Epoch 65/100\n",
            "262/262 [==============================] - 0s 2ms/step - loss: 1.0147 - accuracy: 0.5734 - val_loss: 1.0048 - val_accuracy: 0.5548\n",
            "Epoch 66/100\n",
            "262/262 [==============================] - 0s 2ms/step - loss: 1.0212 - accuracy: 0.5558 - val_loss: 1.0126 - val_accuracy: 0.5548\n",
            "Epoch 67/100\n",
            "262/262 [==============================] - 0s 1ms/step - loss: 1.0133 - accuracy: 0.5702 - val_loss: 1.0057 - val_accuracy: 0.5536\n",
            "Epoch 68/100\n",
            "262/262 [==============================] - 0s 1ms/step - loss: 1.0177 - accuracy: 0.5546 - val_loss: 1.0016 - val_accuracy: 0.5561\n",
            "Epoch 69/100\n",
            "262/262 [==============================] - 0s 2ms/step - loss: 1.0129 - accuracy: 0.5635 - val_loss: 1.0011 - val_accuracy: 0.5574\n",
            "Epoch 70/100\n",
            "262/262 [==============================] - 0s 2ms/step - loss: 1.0073 - accuracy: 0.5629 - val_loss: 1.0104 - val_accuracy: 0.5344\n",
            "Epoch 71/100\n",
            "262/262 [==============================] - 0s 1ms/step - loss: 1.0095 - accuracy: 0.5619 - val_loss: 1.0053 - val_accuracy: 0.5536\n",
            "Epoch 72/100\n",
            "262/262 [==============================] - 0s 1ms/step - loss: 1.0160 - accuracy: 0.5648 - val_loss: 1.0030 - val_accuracy: 0.5599\n",
            "Epoch 73/100\n",
            "262/262 [==============================] - 0s 2ms/step - loss: 1.0060 - accuracy: 0.5625 - val_loss: 0.9979 - val_accuracy: 0.5548\n",
            "Epoch 74/100\n",
            "262/262 [==============================] - 0s 1ms/step - loss: 1.0076 - accuracy: 0.5645 - val_loss: 0.9986 - val_accuracy: 0.5574\n",
            "Epoch 75/100\n",
            "262/262 [==============================] - 0s 1ms/step - loss: 1.0045 - accuracy: 0.5699 - val_loss: 1.0023 - val_accuracy: 0.5599\n",
            "Epoch 76/100\n",
            "262/262 [==============================] - 0s 1ms/step - loss: 1.0163 - accuracy: 0.5565 - val_loss: 1.0012 - val_accuracy: 0.5574\n",
            "Epoch 77/100\n",
            "262/262 [==============================] - 0s 1ms/step - loss: 0.9998 - accuracy: 0.5689 - val_loss: 1.0025 - val_accuracy: 0.5446\n",
            "Epoch 78/100\n",
            "262/262 [==============================] - 0s 1ms/step - loss: 1.0077 - accuracy: 0.5632 - val_loss: 1.0066 - val_accuracy: 0.5459\n",
            "Epoch 79/100\n",
            "262/262 [==============================] - 0s 1ms/step - loss: 1.0045 - accuracy: 0.5676 - val_loss: 0.9968 - val_accuracy: 0.5663\n",
            "Epoch 80/100\n",
            "262/262 [==============================] - 0s 2ms/step - loss: 1.0068 - accuracy: 0.5638 - val_loss: 0.9906 - val_accuracy: 0.5625\n",
            "Epoch 81/100\n",
            "262/262 [==============================] - 0s 2ms/step - loss: 1.0065 - accuracy: 0.5619 - val_loss: 1.0058 - val_accuracy: 0.5523\n",
            "Epoch 82/100\n",
            "262/262 [==============================] - 0s 1ms/step - loss: 1.0043 - accuracy: 0.5613 - val_loss: 0.9950 - val_accuracy: 0.5536\n",
            "Epoch 83/100\n",
            "262/262 [==============================] - 0s 1ms/step - loss: 0.9968 - accuracy: 0.5606 - val_loss: 0.9975 - val_accuracy: 0.5638\n",
            "Epoch 84/100\n",
            "262/262 [==============================] - 0s 1ms/step - loss: 0.9917 - accuracy: 0.5657 - val_loss: 0.9963 - val_accuracy: 0.5651\n",
            "Epoch 85/100\n",
            "262/262 [==============================] - 0s 1ms/step - loss: 0.9991 - accuracy: 0.5692 - val_loss: 0.9921 - val_accuracy: 0.5574\n",
            "Epoch 86/100\n",
            "262/262 [==============================] - 0s 1ms/step - loss: 0.9936 - accuracy: 0.5728 - val_loss: 0.9980 - val_accuracy: 0.5561\n",
            "Epoch 87/100\n",
            "262/262 [==============================] - 0s 2ms/step - loss: 1.0002 - accuracy: 0.5664 - val_loss: 0.9942 - val_accuracy: 0.5689\n",
            "Epoch 88/100\n",
            "262/262 [==============================] - 0s 2ms/step - loss: 1.0015 - accuracy: 0.5699 - val_loss: 1.0029 - val_accuracy: 0.5548\n",
            "Epoch 89/100\n",
            "262/262 [==============================] - 0s 1ms/step - loss: 0.9985 - accuracy: 0.5734 - val_loss: 0.9899 - val_accuracy: 0.5561\n",
            "Epoch 90/100\n",
            "262/262 [==============================] - 0s 1ms/step - loss: 0.9952 - accuracy: 0.5753 - val_loss: 0.9944 - val_accuracy: 0.5702\n",
            "Epoch 91/100\n",
            "262/262 [==============================] - 0s 2ms/step - loss: 1.0006 - accuracy: 0.5562 - val_loss: 0.9888 - val_accuracy: 0.5638\n",
            "Epoch 92/100\n",
            "262/262 [==============================] - 0s 1ms/step - loss: 0.9977 - accuracy: 0.5699 - val_loss: 0.9963 - val_accuracy: 0.5548\n",
            "Epoch 93/100\n",
            "262/262 [==============================] - 0s 1ms/step - loss: 0.9908 - accuracy: 0.5686 - val_loss: 0.9921 - val_accuracy: 0.5561\n",
            "Epoch 94/100\n",
            "262/262 [==============================] - 0s 2ms/step - loss: 0.9949 - accuracy: 0.5718 - val_loss: 0.9904 - val_accuracy: 0.5625\n",
            "Epoch 95/100\n",
            "262/262 [==============================] - 0s 1ms/step - loss: 0.9954 - accuracy: 0.5676 - val_loss: 0.9964 - val_accuracy: 0.5485\n",
            "Epoch 96/100\n",
            "262/262 [==============================] - 0s 2ms/step - loss: 0.9902 - accuracy: 0.5734 - val_loss: 0.9893 - val_accuracy: 0.5599\n",
            "Epoch 97/100\n",
            "262/262 [==============================] - 0s 2ms/step - loss: 0.9945 - accuracy: 0.5638 - val_loss: 0.9931 - val_accuracy: 0.5574\n",
            "Epoch 98/100\n",
            "262/262 [==============================] - 0s 1ms/step - loss: 0.9850 - accuracy: 0.5724 - val_loss: 0.9962 - val_accuracy: 0.5561\n",
            "Epoch 99/100\n",
            "262/262 [==============================] - 0s 2ms/step - loss: 0.9835 - accuracy: 0.5807 - val_loss: 0.9909 - val_accuracy: 0.5625\n",
            "Epoch 100/100\n",
            "262/262 [==============================] - 0s 1ms/step - loss: 0.9911 - accuracy: 0.5750 - val_loss: 0.9889 - val_accuracy: 0.5523\n"
          ],
          "name": "stdout"
        }
      ]
    },
    {
      "cell_type": "code",
      "metadata": {
        "id": "ELfXavk0Rd-x",
        "outputId": "8f332f0e-07fe-491f-d029-1577d5235dfe",
        "colab": {
          "base_uri": "https://localhost:8080/",
          "height": 51
        }
      },
      "source": [
        "my_model.evaluate(X_test, y_test)"
      ],
      "execution_count": 18,
      "outputs": [
        {
          "output_type": "stream",
          "text": [
            "31/31 [==============================] - 0s 879us/step - loss: 1.2347 - accuracy: 0.4959\n"
          ],
          "name": "stdout"
        },
        {
          "output_type": "execute_result",
          "data": {
            "text/plain": [
              "[1.2346607446670532, 0.4959183633327484]"
            ]
          },
          "metadata": {
            "tags": []
          },
          "execution_count": 18
        }
      ]
    },
    {
      "cell_type": "code",
      "metadata": {
        "id": "e0gNMzEBRep5",
        "outputId": "4ce97aec-f185-40bf-82d3-acf588cec04e",
        "colab": {
          "base_uri": "https://localhost:8080/",
          "height": 238
        }
      },
      "source": [
        "my_predict = my_model.predict(X_test)\n",
        "my_predict"
      ],
      "execution_count": 19,
      "outputs": [
        {
          "output_type": "execute_result",
          "data": {
            "text/plain": [
              "array([[4.0378419e-11, 2.5983441e-11, 2.9417330e-11, ..., 5.6791065e-11,\n",
              "        2.7984788e-11, 4.0396752e-11],\n",
              "       [2.5537395e-11, 1.7211638e-11, 2.1476113e-11, ..., 3.0776433e-11,\n",
              "        2.1609697e-11, 2.5811674e-11],\n",
              "       [6.8659163e-18, 2.7808516e-18, 4.3343946e-18, ..., 1.4853522e-17,\n",
              "        4.2237765e-18, 8.8441034e-18],\n",
              "       ...,\n",
              "       [8.8820807e-16, 3.6117850e-16, 5.7414879e-16, ..., 1.6552311e-15,\n",
              "        5.6991982e-16, 9.0635543e-16],\n",
              "       [6.6710917e-15, 3.5528022e-15, 4.8098304e-15, ..., 7.3648151e-15,\n",
              "        5.6165510e-15, 6.5296703e-15],\n",
              "       [3.7084016e-18, 1.9039400e-18, 4.0969110e-18, ..., 4.8525976e-18,\n",
              "        4.7468103e-18, 5.4515533e-18]], dtype=float32)"
            ]
          },
          "metadata": {
            "tags": []
          },
          "execution_count": 19
        }
      ]
    },
    {
      "cell_type": "code",
      "metadata": {
        "id": "VEmEsZ6DRfHP",
        "outputId": "9b8d8663-e458-456b-832f-21b7fc6a8908",
        "colab": {
          "base_uri": "https://localhost:8080/",
          "height": 590
        }
      },
      "source": [
        "# list all data in history\n",
        "print(history.history.keys())\n",
        "# summarize history for accuracy\n",
        "plt.plot(history.history['accuracy'])\n",
        "plt.plot(history.history['val_accuracy'])\n",
        "plt.title('model accuracy')\n",
        "plt.ylabel('accuracy')\n",
        "plt.xlabel('epoch')\n",
        "plt.legend(['train', 'test'], loc='upper left')\n",
        "plt.show()\n",
        "# summarize history for loss\n",
        "plt.plot(history.history['loss'])\n",
        "plt.plot(history.history['val_loss'])\n",
        "plt.title('model loss')\n",
        "plt.ylabel('loss')\n",
        "plt.xlabel('epoch')\n",
        "plt.legend(['train', 'test'], loc='upper left')\n",
        "plt.show()"
      ],
      "execution_count": 20,
      "outputs": [
        {
          "output_type": "stream",
          "text": [
            "dict_keys(['loss', 'accuracy', 'val_loss', 'val_accuracy'])\n"
          ],
          "name": "stdout"
        },
        {
          "output_type": "display_data",
          "data": {
            "image/png": "[encoded data removed]",
            "text/plain": [
              "<Figure size 432x288 with 1 Axes>"
            ]
          },
          "metadata": {
            "tags": [],
            "needs_background": "light"
          }
        },
        {
          "output_type": "display_data",
          "data": {
            "image/png": "[encoded data removed]",
            "text/plain": [
              "<Figure size 432x288 with 1 Axes>"
            ]
          },
          "metadata": {
            "tags": [],
            "needs_background": "light"
          }
        }
      ]
    },
    {
      "cell_type": "code",
      "metadata": {
        "id": "DoOqlBg2Rem3",
        "outputId": "6396f2da-3038-4e79-81f8-7364aa86b7e6",
        "colab": {
          "base_uri": "https://localhost:8080/",
          "height": 136
        }
      },
      "source": [
        "np.round(my_predict)"
      ],
      "execution_count": 21,
      "outputs": [
        {
          "output_type": "execute_result",
          "data": {
            "text/plain": [
              "array([[0., 0., 0., ..., 0., 0., 0.],\n",
              "       [0., 0., 0., ..., 0., 0., 0.],\n",
              "       [0., 0., 0., ..., 0., 0., 0.],\n",
              "       ...,\n",
              "       [0., 0., 0., ..., 0., 0., 0.],\n",
              "       [0., 0., 0., ..., 0., 0., 0.],\n",
              "       [0., 0., 0., ..., 0., 0., 0.]], dtype=float32)"
            ]
          },
          "metadata": {
            "tags": []
          },
          "execution_count": 21
        }
      ]
    }
  ]
}